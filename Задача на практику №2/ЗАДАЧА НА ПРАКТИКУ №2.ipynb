{
 "cells": [
  {
   "cell_type": "markdown",
   "id": "36e16d89",
   "metadata": {},
   "source": [
    "# ЗАДАЧА НА ПРАКТИКУ №2 (со звездочкой)\n",
    "## Написать нейросеть, которая будет складывать два небольших числа (от 0 до 10)"
   ]
  },
  {
   "cell_type": "code",
   "execution_count": 3,
   "id": "24adaae3",
   "metadata": {},
   "outputs": [
    {
     "name": "stdout",
     "output_type": "stream",
     "text": [
      "Epoch 1/10\n",
      "\u001b[1m313/313\u001b[0m \u001b[32m━━━━━━━━━━━━━━━━━━━━\u001b[0m\u001b[37m\u001b[0m \u001b[1m2s\u001b[0m 3ms/step - loss: 0.0237 - mae: 0.0835 - val_loss: 2.0448e-05 - val_mae: 0.0035\n",
      "Epoch 2/10\n",
      "\u001b[1m313/313\u001b[0m \u001b[32m━━━━━━━━━━━━━━━━━━━━\u001b[0m\u001b[37m\u001b[0m \u001b[1m1s\u001b[0m 3ms/step - loss: 1.3276e-05 - mae: 0.0028 - val_loss: 5.8600e-06 - val_mae: 0.0019\n",
      "Epoch 3/10\n",
      "\u001b[1m313/313\u001b[0m \u001b[32m━━━━━━━━━━━━━━━━━━━━\u001b[0m\u001b[37m\u001b[0m \u001b[1m1s\u001b[0m 3ms/step - loss: 4.8064e-06 - mae: 0.0017 - val_loss: 3.5694e-06 - val_mae: 0.0014\n",
      "Epoch 4/10\n",
      "\u001b[1m313/313\u001b[0m \u001b[32m━━━━━━━━━━━━━━━━━━━━\u001b[0m\u001b[37m\u001b[0m \u001b[1m1s\u001b[0m 2ms/step - loss: 3.2130e-06 - mae: 0.0014 - val_loss: 2.6733e-06 - val_mae: 0.0012\n",
      "Epoch 5/10\n",
      "\u001b[1m313/313\u001b[0m \u001b[32m━━━━━━━━━━━━━━━━━━━━\u001b[0m\u001b[37m\u001b[0m \u001b[1m1s\u001b[0m 2ms/step - loss: 2.3730e-06 - mae: 0.0012 - val_loss: 1.9010e-06 - val_mae: 0.0010\n",
      "Epoch 6/10\n",
      "\u001b[1m313/313\u001b[0m \u001b[32m━━━━━━━━━━━━━━━━━━━━\u001b[0m\u001b[37m\u001b[0m \u001b[1m1s\u001b[0m 2ms/step - loss: 1.6342e-06 - mae: 9.6962e-04 - val_loss: 1.1427e-06 - val_mae: 8.0108e-04\n",
      "Epoch 7/10\n",
      "\u001b[1m313/313\u001b[0m \u001b[32m━━━━━━━━━━━━━━━━━━━━\u001b[0m\u001b[37m\u001b[0m \u001b[1m1s\u001b[0m 2ms/step - loss: 1.0066e-06 - mae: 7.4342e-04 - val_loss: 6.6730e-07 - val_mae: 5.9531e-04\n",
      "Epoch 8/10\n",
      "\u001b[1m313/313\u001b[0m \u001b[32m━━━━━━━━━━━━━━━━━━━━\u001b[0m\u001b[37m\u001b[0m \u001b[1m1s\u001b[0m 2ms/step - loss: 6.0392e-07 - mae: 5.6746e-04 - val_loss: 4.4946e-07 - val_mae: 4.9326e-04\n",
      "Epoch 9/10\n",
      "\u001b[1m313/313\u001b[0m \u001b[32m━━━━━━━━━━━━━━━━━━━━\u001b[0m\u001b[37m\u001b[0m \u001b[1m1s\u001b[0m 2ms/step - loss: 4.2837e-07 - mae: 4.8537e-04 - val_loss: 3.3173e-07 - val_mae: 4.2768e-04\n",
      "Epoch 10/10\n",
      "\u001b[1m313/313\u001b[0m \u001b[32m━━━━━━━━━━━━━━━━━━━━\u001b[0m\u001b[37m\u001b[0m \u001b[1m1s\u001b[0m 2ms/step - loss: 3.1468e-07 - mae: 4.2158e-04 - val_loss: 2.7497e-07 - val_mae: 4.1225e-04\n",
      "\u001b[1m1/1\u001b[0m \u001b[32m━━━━━━━━━━━━━━━━━━━━\u001b[0m\u001b[37m\u001b[0m \u001b[1m0s\u001b[0m 89ms/step\n",
      "Сумма чисел 1 и 0 равен 0.9919999837875366\n",
      "\u001b[1m1/1\u001b[0m \u001b[32m━━━━━━━━━━━━━━━━━━━━\u001b[0m\u001b[37m\u001b[0m \u001b[1m0s\u001b[0m 51ms/step\n",
      "Сумма чисел 7 и 8 равен 14.98900032043457\n",
      "\u001b[1m1/1\u001b[0m \u001b[32m━━━━━━━━━━━━━━━━━━━━\u001b[0m\u001b[37m\u001b[0m \u001b[1m0s\u001b[0m 53ms/step\n",
      "Сумма чисел 10 и 9 равен 18.993999481201172\n"
     ]
    }
   ],
   "source": [
    "import numpy as np\n",
    "from tensorflow.keras.models import Sequential\n",
    "from tensorflow.keras.layers import Dense\n",
    "\n",
    "# Генерация пары чисел от 0 до 10\n",
    "num = np.random.randint(0, 11, size=(20000, 2))\n",
    "# Сумма пары чисел\n",
    "summa = num.sum(axis=1)\n",
    "\n",
    "# Нормализация чисел (от 0 до 1). Максимальное число 10\n",
    "X = num.astype(\"float32\") / 10.0\n",
    "# Нормализация суммы (от 0 до 1). Максимальная сумма 20\n",
    "y = summa.astype(\"float32\") / 20.0\n",
    "\n",
    "model = Sequential(\n",
    "    [\n",
    "        Dense(64, activation=\"relu\", input_shape=(2,)),\n",
    "        Dense(32, activation=\"relu\"),\n",
    "        Dense(1),\n",
    "    ]\n",
    ")\n",
    "\n",
    "from tensorflow.keras.optimizers import Adam\n",
    "\n",
    "model.compile(loss=\"mse\", optimizer=Adam(), metrics=[\"mae\"])\n",
    "\n",
    "import math\n",
    "\n",
    "batch_size = 64\n",
    "num_steps = math.ceil(float(20000) / batch_size)\n",
    "\n",
    "model.fit(\n",
    "    X,\n",
    "    y,\n",
    "    epochs=10,\n",
    "    batch_size=batch_size,\n",
    "    validation_split=0.2,\n",
    "    steps_per_epoch=num_steps,\n",
    ")\n",
    "\n",
    "# model.save(\"Нейросеть(сумма 2-ух чисел до 10).keras\")\n",
    "\n",
    "\n",
    "def predict_sum(a, b):\n",
    "    # Обратное преобразование чисел\n",
    "    input_data = np.array([[a, b]]) / 10.0\n",
    "    prediction = (\n",
    "        model.predict(input_data)[0][0] * 20.0\n",
    "    )  # Обратное преобразование суммы чисел\n",
    "    return round(prediction, 3)\n",
    "\n",
    "\n",
    "print(f\"Сумма чисел 1 и 0 равен {predict_sum(1, 0)}\")\n",
    "print(f\"Сумма чисел 7 и 8 равен {predict_sum(7, 8)}\")\n",
    "print(f\"Сумма чисел 10 и 9 равен {predict_sum(10, 9)}\")"
   ]
  }
 ],
 "metadata": {
  "kernelspec": {
   "display_name": "Python 3",
   "language": "python",
   "name": "python3"
  },
  "language_info": {
   "codemirror_mode": {
    "name": "ipython",
    "version": 3
   },
   "file_extension": ".py",
   "mimetype": "text/x-python",
   "name": "python",
   "nbconvert_exporter": "python",
   "pygments_lexer": "ipython3",
   "version": "3.12.10"
  }
 },
 "nbformat": 4,
 "nbformat_minor": 5
}
