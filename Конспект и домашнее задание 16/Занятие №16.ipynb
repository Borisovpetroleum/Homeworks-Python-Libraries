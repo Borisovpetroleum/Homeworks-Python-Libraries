{
 "cells": [
  {
   "cell_type": "markdown",
   "id": "318e2013",
   "metadata": {},
   "source": [
    "# Занятие №16"
   ]
  },
  {
   "cell_type": "markdown",
   "id": "58421212",
   "metadata": {},
   "source": [
    "## Spam"
   ]
  },
  {
   "cell_type": "code",
   "execution_count": 81,
   "id": "525e53e5",
   "metadata": {},
   "outputs": [],
   "source": [
    "import pandas as pd"
   ]
  },
  {
   "cell_type": "code",
   "execution_count": 82,
   "id": "c53c6a04",
   "metadata": {},
   "outputs": [
    {
     "name": "stdout",
     "output_type": "stream",
     "text": [
      "     Category                                            Message\n",
      "0         ham  Go until jurong point, crazy.. Available only ...\n",
      "1         ham                      Ok lar... Joking wif u oni...\n",
      "2        spam  Free entry in 2 a wkly comp to win FA Cup fina...\n",
      "3         ham  U dun say so early hor... U c already then say...\n",
      "4         ham  Nah I don't think he goes to usf, he lives aro...\n",
      "...       ...                                                ...\n",
      "5567     spam  This is the 2nd time we have tried 2 contact u...\n",
      "5568      ham               Will ü b going to esplanade fr home?\n",
      "5569      ham  Pity, * was in mood for that. So...any other s...\n",
      "5570      ham  The guy did some bitching but I acted like i'd...\n",
      "5571      ham                         Rofl. Its true to its name\n",
      "\n",
      "[5572 rows x 2 columns]\n",
      "Index(['Category', 'Message'], dtype='object')\n",
      "<class 'pandas.core.frame.DataFrame'>\n",
      "RangeIndex: 5572 entries, 0 to 5571\n",
      "Data columns (total 2 columns):\n",
      " #   Column    Non-Null Count  Dtype \n",
      "---  ------    --------------  ----- \n",
      " 0   Category  5572 non-null   object\n",
      " 1   Message   5572 non-null   object\n",
      "dtypes: object(2)\n",
      "memory usage: 87.2+ KB\n"
     ]
    },
    {
     "name": "stderr",
     "output_type": "stream",
     "text": [
      "<>:2: SyntaxWarning: invalid escape sequence '\\P'\n",
      "<>:2: SyntaxWarning: invalid escape sequence '\\P'\n",
      "C:\\Users\\vov4i\\AppData\\Local\\Temp\\ipykernel_8224\\512376989.py:2: SyntaxWarning: invalid escape sequence '\\P'\n",
      "  \"Python\\Python от основ до машинного обучения\\Раздел 2. Библиотеки Python для научных расчетов и машинного обучения\\Конспекты и домашние задания\\spam.csv\"\n"
     ]
    }
   ],
   "source": [
    "data = pd.read_csv(\n",
    "    \"Python\\Python от основ до машинного обучения\\Раздел 2. Библиотеки Python для научных расчетов и машинного обучения\\Конспекты и домашние задания\\spam.csv\"\n",
    ")\n",
    "print(data)\n",
    "print(data.columns)\n",
    "data.info()"
   ]
  },
  {
   "cell_type": "code",
   "execution_count": 83,
   "id": "b375243e",
   "metadata": {},
   "outputs": [
    {
     "name": "stdout",
     "output_type": "stream",
     "text": [
      "  Category                                            Message  Spam\n",
      "0      ham  Go until jurong point, crazy.. Available only ...     0\n",
      "1      ham                      Ok lar... Joking wif u oni...     0\n",
      "2     spam  Free entry in 2 a wkly comp to win FA Cup fina...     1\n",
      "3      ham  U dun say so early hor... U c already then say...     0\n",
      "4      ham  Nah I don't think he goes to usf, he lives aro...     0\n"
     ]
    }
   ],
   "source": [
    "data[\"Spam\"] = data[\"Category\"].apply(lambda x: 1 if x == \"spam\" else 0)\n",
    "print(data.head())"
   ]
  },
  {
   "cell_type": "code",
   "execution_count": 84,
   "id": "30c63e2b",
   "metadata": {},
   "outputs": [
    {
     "name": "stdout",
     "output_type": "stream",
     "text": [
      "0.9874401913875598\n",
      "[0 1 1 0]\n"
     ]
    }
   ],
   "source": [
    "from sklearn.feature_extraction.text import CountVectorizer\n",
    "\n",
    "vect = CountVectorizer()\n",
    "X = vect.fit_transform(data[\"Message\"])\n",
    "w = vect.get_feature_names_out()\n",
    "\n",
    "from sklearn.naive_bayes import MultinomialNB\n",
    "\n",
    "from sklearn.pipeline import Pipeline\n",
    "\n",
    "model = Pipeline([(\"vect\", CountVectorizer()), (\"NB\", MultinomialNB())])\n",
    "\n",
    "from sklearn.model_selection import train_test_split\n",
    "\n",
    "X_train, X_test, y_train, y_test = train_test_split(\n",
    "    data[\"Message\"], data[\"Spam\"], test_size=0.3\n",
    ")\n",
    "model.fit(X_train, y_train)\n",
    "\n",
    "y_predict=model.predict(X_test)\n",
    "\n",
    "from sklearn.metrics import accuracy_score\n",
    "\n",
    "print(accuracy_score(y_predict,y_test))\n",
    "\n",
    "msg=['Hi! How are you?', 'Free subscription', 'Win the lottery call us', 'Call me this evening']\n",
    "\n",
    "print(model.predict(msg))"
   ]
  },
  {
   "cell_type": "markdown",
   "id": "11c52de4",
   "metadata": {},
   "source": [
    "## Phishing"
   ]
  },
  {
   "cell_type": "code",
   "execution_count": 85,
   "id": "f7140602",
   "metadata": {},
   "outputs": [],
   "source": [
    "import pandas as pd"
   ]
  },
  {
   "cell_type": "code",
   "execution_count": 86,
   "id": "1b068a18",
   "metadata": {},
   "outputs": [
    {
     "name": "stdout",
     "output_type": "stream",
     "text": [
      "       Index  UsingIP  LongURL  ShortURL  Symbol@  Redirecting//  \\\n",
      "0          0        1        1         1        1              1   \n",
      "1          1        1        0         1        1              1   \n",
      "2          2        1        0         1        1              1   \n",
      "3          3        1        0        -1        1              1   \n",
      "4          4       -1        0        -1        1             -1   \n",
      "...      ...      ...      ...       ...      ...            ...   \n",
      "11049  11049        1       -1         1       -1              1   \n",
      "11050  11050       -1        1         1       -1             -1   \n",
      "11051  11051        1       -1         1        1              1   \n",
      "11052  11052       -1       -1         1        1              1   \n",
      "11053  11053       -1       -1         1        1              1   \n",
      "\n",
      "       PrefixSuffix-  SubDomains  HTTPS  DomainRegLen  ...  UsingPopupWindow  \\\n",
      "0                 -1           0      1            -1  ...                 1   \n",
      "1                 -1          -1     -1            -1  ...                 1   \n",
      "2                 -1          -1     -1             1  ...                 1   \n",
      "3                 -1           1      1            -1  ...                -1   \n",
      "4                 -1           1      1            -1  ...                 1   \n",
      "...              ...         ...    ...           ...  ...               ...   \n",
      "11049              1           1      1            -1  ...                -1   \n",
      "11050             -1           1     -1            -1  ...                -1   \n",
      "11051             -1           1     -1            -1  ...                 1   \n",
      "11052             -1          -1     -1             1  ...                -1   \n",
      "11053             -1          -1     -1             1  ...                 1   \n",
      "\n",
      "       IframeRedirection  AgeofDomain  DNSRecording  WebsiteTraffic  PageRank  \\\n",
      "0                      1           -1            -1               0        -1   \n",
      "1                      1            1            -1               1        -1   \n",
      "2                      1           -1            -1               1        -1   \n",
      "3                      1           -1            -1               0        -1   \n",
      "4                      1            1             1               1        -1   \n",
      "...                  ...          ...           ...             ...       ...   \n",
      "11049                 -1            1             1              -1        -1   \n",
      "11050                  1            1             1               1         1   \n",
      "11051                  1            1             1               1        -1   \n",
      "11052                  1            1             1               1        -1   \n",
      "11053                  1           -1             1              -1        -1   \n",
      "\n",
      "       GoogleIndex  LinksPointingToPage  StatsReport  class  \n",
      "0                1                    1            1     -1  \n",
      "1                1                    0           -1     -1  \n",
      "2                1                   -1            1     -1  \n",
      "3                1                    1            1      1  \n",
      "4                1                   -1           -1      1  \n",
      "...            ...                  ...          ...    ...  \n",
      "11049            1                    1            1      1  \n",
      "11050            1                   -1            1     -1  \n",
      "11051            1                    0            1     -1  \n",
      "11052            1                    1            1     -1  \n",
      "11053           -1                    1           -1     -1  \n",
      "\n",
      "[11054 rows x 32 columns]\n",
      "Index(['Index', 'UsingIP', 'LongURL', 'ShortURL', 'Symbol@', 'Redirecting//',\n",
      "       'PrefixSuffix-', 'SubDomains', 'HTTPS', 'DomainRegLen', 'Favicon',\n",
      "       'NonStdPort', 'HTTPSDomainURL', 'RequestURL', 'AnchorURL',\n",
      "       'LinksInScriptTags', 'ServerFormHandler', 'InfoEmail', 'AbnormalURL',\n",
      "       'WebsiteForwarding', 'StatusBarCust', 'DisableRightClick',\n",
      "       'UsingPopupWindow', 'IframeRedirection', 'AgeofDomain', 'DNSRecording',\n",
      "       'WebsiteTraffic', 'PageRank', 'GoogleIndex', 'LinksPointingToPage',\n",
      "       'StatsReport', 'class'],\n",
      "      dtype='object')\n",
      "<class 'pandas.core.frame.DataFrame'>\n",
      "RangeIndex: 11054 entries, 0 to 11053\n",
      "Data columns (total 32 columns):\n",
      " #   Column               Non-Null Count  Dtype\n",
      "---  ------               --------------  -----\n",
      " 0   Index                11054 non-null  int64\n",
      " 1   UsingIP              11054 non-null  int64\n",
      " 2   LongURL              11054 non-null  int64\n",
      " 3   ShortURL             11054 non-null  int64\n",
      " 4   Symbol@              11054 non-null  int64\n",
      " 5   Redirecting//        11054 non-null  int64\n",
      " 6   PrefixSuffix-        11054 non-null  int64\n",
      " 7   SubDomains           11054 non-null  int64\n",
      " 8   HTTPS                11054 non-null  int64\n",
      " 9   DomainRegLen         11054 non-null  int64\n",
      " 10  Favicon              11054 non-null  int64\n",
      " 11  NonStdPort           11054 non-null  int64\n",
      " 12  HTTPSDomainURL       11054 non-null  int64\n",
      " 13  RequestURL           11054 non-null  int64\n",
      " 14  AnchorURL            11054 non-null  int64\n",
      " 15  LinksInScriptTags    11054 non-null  int64\n",
      " 16  ServerFormHandler    11054 non-null  int64\n",
      " 17  InfoEmail            11054 non-null  int64\n",
      " 18  AbnormalURL          11054 non-null  int64\n",
      " 19  WebsiteForwarding    11054 non-null  int64\n",
      " 20  StatusBarCust        11054 non-null  int64\n",
      " 21  DisableRightClick    11054 non-null  int64\n",
      " 22  UsingPopupWindow     11054 non-null  int64\n",
      " 23  IframeRedirection    11054 non-null  int64\n",
      " 24  AgeofDomain          11054 non-null  int64\n",
      " 25  DNSRecording         11054 non-null  int64\n",
      " 26  WebsiteTraffic       11054 non-null  int64\n",
      " 27  PageRank             11054 non-null  int64\n",
      " 28  GoogleIndex          11054 non-null  int64\n",
      " 29  LinksPointingToPage  11054 non-null  int64\n",
      " 30  StatsReport          11054 non-null  int64\n",
      " 31  class                11054 non-null  int64\n",
      "dtypes: int64(32)\n",
      "memory usage: 2.7 MB\n"
     ]
    },
    {
     "name": "stderr",
     "output_type": "stream",
     "text": [
      "<>:2: SyntaxWarning: invalid escape sequence '\\P'\n",
      "<>:2: SyntaxWarning: invalid escape sequence '\\P'\n",
      "C:\\Users\\vov4i\\AppData\\Local\\Temp\\ipykernel_8224\\1764471272.py:2: SyntaxWarning: invalid escape sequence '\\P'\n",
      "  \"Python\\Python от основ до машинного обучения\\Раздел 2. Библиотеки Python для научных расчетов и машинного обучения\\Конспекты и домашние задания\\phishing.csv\"\n"
     ]
    }
   ],
   "source": [
    "data = pd.read_csv(\n",
    "    \"Python\\Python от основ до машинного обучения\\Раздел 2. Библиотеки Python для научных расчетов и машинного обучения\\Конспекты и домашние задания\\phishing.csv\"\n",
    ")\n",
    "print(data)\n",
    "print(data.columns)\n",
    "data.info()"
   ]
  },
  {
   "cell_type": "code",
   "execution_count": 87,
   "id": "eea2aa9a",
   "metadata": {},
   "outputs": [
    {
     "name": "stdout",
     "output_type": "stream",
     "text": [
      "   Index  UsingIP  LongURL  ShortURL  Symbol@  Redirecting//  PrefixSuffix-  \\\n",
      "0      0        1        1         1        1              1             -1   \n",
      "1      1        1        0         1        1              1             -1   \n",
      "2      2        1        0         1        1              1             -1   \n",
      "3      3        1        0        -1        1              1             -1   \n",
      "4      4       -1        0        -1        1             -1             -1   \n",
      "\n",
      "   SubDomains  HTTPS  DomainRegLen  ...  DisableRightClick  UsingPopupWindow  \\\n",
      "0           0      1            -1  ...                  1                 1   \n",
      "1          -1     -1            -1  ...                  1                 1   \n",
      "2          -1     -1             1  ...                  1                 1   \n",
      "3           1      1            -1  ...                  1                -1   \n",
      "4           1      1            -1  ...                  1                 1   \n",
      "\n",
      "   IframeRedirection  AgeofDomain  DNSRecording  WebsiteTraffic  PageRank  \\\n",
      "0                  1           -1            -1               0        -1   \n",
      "1                  1            1            -1               1        -1   \n",
      "2                  1           -1            -1               1        -1   \n",
      "3                  1           -1            -1               0        -1   \n",
      "4                  1            1             1               1        -1   \n",
      "\n",
      "   GoogleIndex  LinksPointingToPage  StatsReport  \n",
      "0            1                    1            1  \n",
      "1            1                    0           -1  \n",
      "2            1                   -1            1  \n",
      "3            1                    1            1  \n",
      "4            1                   -1           -1  \n",
      "\n",
      "[5 rows x 31 columns]\n"
     ]
    }
   ],
   "source": [
    "X = data.drop(columns=\"class\")\n",
    "print(X.head())"
   ]
  },
  {
   "cell_type": "code",
   "execution_count": 88,
   "id": "d8928df4",
   "metadata": {},
   "outputs": [
    {
     "name": "stdout",
     "output_type": "stream",
     "text": [
      "0.9583961410913476\n"
     ]
    }
   ],
   "source": [
    "Y = pd.DataFrame(data[\"class\"])\n",
    "\n",
    "from sklearn.model_selection import train_test_split\n",
    "\n",
    "X_train, X_test, y_train, y_test = train_test_split(X, Y, test_size=0.3)\n",
    "\n",
    "from sklearn.tree import DecisionTreeClassifier\n",
    "\n",
    "dt = DecisionTreeClassifier()\n",
    "\n",
    "model = dt.fit(X_train, y_train)\n",
    "\n",
    "dt_predict = model.predict(X_test)\n",
    "\n",
    "from sklearn.metrics import accuracy_score\n",
    "\n",
    "print(accuracy_score(dt_predict, y_test))"
   ]
  },
  {
   "cell_type": "markdown",
   "id": "2c81d5d8",
   "metadata": {},
   "source": [
    "## Parsing"
   ]
  },
  {
   "cell_type": "code",
   "execution_count": 89,
   "id": "4128771e",
   "metadata": {},
   "outputs": [],
   "source": [
    "html_content = \"\"\"\n",
    "<html>\n",
    "<title>Data Science is Fun</title>\n",
    "\n",
    "<body>\n",
    "    <h1>Data Science is Fun</h1>\n",
    "    <div id='paragraphs' class='text'>\n",
    "        <p id='paragraph 0'>Paragraph 0\n",
    "            Paragraph 0 Paragraph 0 Paragraph 0 Paragraph 0 Paragraph 0 Paragraph 0\n",
    "            Paragraph 0 Paragraph 0 Paragraph 0 Paragraph 0 Paragraph 0 Paragraph 0\n",
    "            Paragraph 0 Paragraph 0 Paragraph 0 Paragraph 0 Paragraph 0 Paragraph 0\n",
    "            Paragraph 0 Paragraph 0 Paragraph 0 Paragraph 0 Paragraph 0 Paragraph 0\n",
    "            Paragraph 0 Paragraph 0 Paragraph 0 Paragraph 0 Paragraph 0 Paragraph 0\n",
    "            Paragraph 0 Paragraph 0 Paragraph 0 Paragraph 0 Paragraph 0 Paragraph 0\n",
    "            Paragraph 0 Paragraph 0 Paragraph 0 </p>\n",
    "        <p id='paragraph 1'>Paragraph 1\n",
    "            Paragraph 1 Paragraph 1 Paragraph 1 Paragraph 1 Paragraph 1 Paragraph 1\n",
    "            Paragraph 1 Paragraph 1 Paragraph 1 Paragraph 1 Paragraph 1 Paragraph 1\n",
    "            Paragraph 1 Paragraph 1 Paragraph 1 Paragraph 1 Paragraph 1 Paragraph 1\n",
    "            Paragraph 1 Paragraph 1 Paragraph 1 Paragraph 1 Paragraph 1 Paragraph 1\n",
    "            Paragraph 1 Paragraph 1 Paragraph 1 Paragraph 1 Paragraph 1 Paragraph 1\n",
    "            Paragraph 1 Paragraph 1 Paragraph 1 Paragraph 1 Paragraph 1 Paragraph 1\n",
    "            Paragraph 1 Paragraph 1 Paragraph 1 </p>\n",
    "        <p id='paragraph 2'>Here is a link to <a href='https://www.mail.ru'>Mail ru</a></p>\n",
    "    </div>\n",
    "    <div id='list' class='text'>\n",
    "        <h2>Common Data Science Libraries</h2>\n",
    "        <ul>\n",
    "            <li>NumPy</li>\n",
    "            <li>SciPy</li>\n",
    "            <li>Pandas</li>\n",
    "            <li>Scikit-Learn</li>\n",
    "        </ul>\n",
    "    </div>\n",
    "    <div id='empty' class='empty'></div>\n",
    "</body>\n",
    "\n",
    "</html>\n",
    "\"\"\""
   ]
  },
  {
   "cell_type": "code",
   "execution_count": 90,
   "id": "b4accd57",
   "metadata": {},
   "outputs": [
    {
     "name": "stdout",
     "output_type": "stream",
     "text": [
      "<title>Data Science is Fun</title>\n",
      "<class 'bs4.element.Tag'>\n",
      "Data Science is Fun\n",
      "<p id=\"paragraph 0\">Paragraph 0\n",
      "            Paragraph 0 Paragraph 0 Paragraph 0 Paragraph 0 Paragraph 0 Paragraph 0\n",
      "            Paragraph 0 Paragraph 0 Paragraph 0 Paragraph 0 Paragraph 0 Paragraph 0\n",
      "            Paragraph 0 Paragraph 0 Paragraph 0 Paragraph 0 Paragraph 0 Paragraph 0\n",
      "            Paragraph 0 Paragraph 0 Paragraph 0 Paragraph 0 Paragraph 0 Paragraph 0\n",
      "            Paragraph 0 Paragraph 0 Paragraph 0 Paragraph 0 Paragraph 0 Paragraph 0\n",
      "            Paragraph 0 Paragraph 0 Paragraph 0 Paragraph 0 Paragraph 0 Paragraph 0\n",
      "            Paragraph 0 Paragraph 0 Paragraph 0 </p>\n",
      "Paragraph 0\n",
      "            Paragraph 0 Paragraph 0 Paragraph 0 Paragraph 0 Paragraph 0 Paragraph 0\n",
      "            Paragraph 0 Paragraph 0 Paragraph 0 Paragraph 0 Paragraph 0 Paragraph 0\n",
      "            Paragraph 0 Paragraph 0 Paragraph 0 Paragraph 0 Paragraph 0 Paragraph 0\n",
      "            Paragraph 0 Paragraph 0 Paragraph 0 Paragraph 0 Paragraph 0 Paragraph 0\n",
      "            Paragraph 0 Paragraph 0 Paragraph 0 Paragraph 0 Paragraph 0 Paragraph 0\n",
      "            Paragraph 0 Paragraph 0 Paragraph 0 Paragraph 0 Paragraph 0 Paragraph 0\n",
      "            Paragraph 0 Paragraph 0 Paragraph 0 \n",
      "...............\n",
      "Paragraph 1\n",
      "            Paragraph 1 Paragraph 1 Paragraph 1 Paragraph 1 Paragraph 1 Paragraph 1\n",
      "            Paragraph 1 Paragraph 1 Paragraph 1 Paragraph 1 Paragraph 1 Paragraph 1\n",
      "            Paragraph 1 Paragraph 1 Paragraph 1 Paragraph 1 Paragraph 1 Paragraph 1\n",
      "            Paragraph 1 Paragraph 1 Paragraph 1 Paragraph 1 Paragraph 1 Paragraph 1\n",
      "            Paragraph 1 Paragraph 1 Paragraph 1 Paragraph 1 Paragraph 1 Paragraph 1\n",
      "            Paragraph 1 Paragraph 1 Paragraph 1 Paragraph 1 Paragraph 1 Paragraph 1\n",
      "            Paragraph 1 Paragraph 1 Paragraph 1 \n",
      "...............\n",
      "Here is a link to Mail ru\n",
      "...............\n"
     ]
    }
   ],
   "source": [
    "from bs4 import BeautifulSoup as bs\n",
    "\n",
    "\n",
    "soup = bs(html_content, \"html.parser\")\n",
    "\n",
    "title = soup.find(\"title\")\n",
    "print(title)\n",
    "print(type(title))\n",
    "print(title.text)\n",
    "\n",
    "print(soup.body.p)\n",
    "plist = soup.body.find_all(\"p\")\n",
    "for i, p in enumerate(plist):\n",
    "    print(p.text)\n",
    "    print(\"...............\")"
   ]
  },
  {
   "cell_type": "code",
   "execution_count": 91,
   "id": "59f93b51",
   "metadata": {},
   "outputs": [
    {
     "name": "stdout",
     "output_type": "stream",
     "text": [
      "<generator object <genexpr> at 0x00000294E87707C0>\n",
      "Here is a link to Mail ru\n"
     ]
    }
   ],
   "source": [
    "print(bullet.text for bullet in soup.body.find_all(\"li\"))\n",
    "p2 = soup.find(id=\"paragraph 2\")\n",
    "print(p2.text)"
   ]
  },
  {
   "cell_type": "code",
   "execution_count": 92,
   "id": "79b798ea",
   "metadata": {},
   "outputs": [
    {
     "name": "stdout",
     "output_type": "stream",
     "text": [
      "[<div class=\"text\" id=\"paragraphs\">\n",
      "<p id=\"paragraph 0\">Paragraph 0\n",
      "            Paragraph 0 Paragraph 0 Paragraph 0 Paragraph 0 Paragraph 0 Paragraph 0\n",
      "            Paragraph 0 Paragraph 0 Paragraph 0 Paragraph 0 Paragraph 0 Paragraph 0\n",
      "            Paragraph 0 Paragraph 0 Paragraph 0 Paragraph 0 Paragraph 0 Paragraph 0\n",
      "            Paragraph 0 Paragraph 0 Paragraph 0 Paragraph 0 Paragraph 0 Paragraph 0\n",
      "            Paragraph 0 Paragraph 0 Paragraph 0 Paragraph 0 Paragraph 0 Paragraph 0\n",
      "            Paragraph 0 Paragraph 0 Paragraph 0 Paragraph 0 Paragraph 0 Paragraph 0\n",
      "            Paragraph 0 Paragraph 0 Paragraph 0 </p>\n",
      "<p id=\"paragraph 1\">Paragraph 1\n",
      "            Paragraph 1 Paragraph 1 Paragraph 1 Paragraph 1 Paragraph 1 Paragraph 1\n",
      "            Paragraph 1 Paragraph 1 Paragraph 1 Paragraph 1 Paragraph 1 Paragraph 1\n",
      "            Paragraph 1 Paragraph 1 Paragraph 1 Paragraph 1 Paragraph 1 Paragraph 1\n",
      "            Paragraph 1 Paragraph 1 Paragraph 1 Paragraph 1 Paragraph 1 Paragraph 1\n",
      "            Paragraph 1 Paragraph 1 Paragraph 1 Paragraph 1 Paragraph 1 Paragraph 1\n",
      "            Paragraph 1 Paragraph 1 Paragraph 1 Paragraph 1 Paragraph 1 Paragraph 1\n",
      "            Paragraph 1 Paragraph 1 Paragraph 1 </p>\n",
      "<p id=\"paragraph 2\">Here is a link to <a href=\"https://www.mail.ru\">Mail ru</a></p>\n",
      "</div>, <div class=\"text\" id=\"list\">\n",
      "<h2>Common Data Science Libraries</h2>\n",
      "<ul>\n",
      "<li>NumPy</li>\n",
      "<li>SciPy</li>\n",
      "<li>Pandas</li>\n",
      "<li>Scikit-Learn</li>\n",
      "</ul>\n",
      "</div>, <div class=\"empty\" id=\"empty\"></div>]\n",
      "[<div class=\"text\" id=\"paragraphs\">\n",
      "<p id=\"paragraph 0\">Paragraph 0\n",
      "            Paragraph 0 Paragraph 0 Paragraph 0 Paragraph 0 Paragraph 0 Paragraph 0\n",
      "            Paragraph 0 Paragraph 0 Paragraph 0 Paragraph 0 Paragraph 0 Paragraph 0\n",
      "            Paragraph 0 Paragraph 0 Paragraph 0 Paragraph 0 Paragraph 0 Paragraph 0\n",
      "            Paragraph 0 Paragraph 0 Paragraph 0 Paragraph 0 Paragraph 0 Paragraph 0\n",
      "            Paragraph 0 Paragraph 0 Paragraph 0 Paragraph 0 Paragraph 0 Paragraph 0\n",
      "            Paragraph 0 Paragraph 0 Paragraph 0 Paragraph 0 Paragraph 0 Paragraph 0\n",
      "            Paragraph 0 Paragraph 0 Paragraph 0 </p>\n",
      "<p id=\"paragraph 1\">Paragraph 1\n",
      "            Paragraph 1 Paragraph 1 Paragraph 1 Paragraph 1 Paragraph 1 Paragraph 1\n",
      "            Paragraph 1 Paragraph 1 Paragraph 1 Paragraph 1 Paragraph 1 Paragraph 1\n",
      "            Paragraph 1 Paragraph 1 Paragraph 1 Paragraph 1 Paragraph 1 Paragraph 1\n",
      "            Paragraph 1 Paragraph 1 Paragraph 1 Paragraph 1 Paragraph 1 Paragraph 1\n",
      "            Paragraph 1 Paragraph 1 Paragraph 1 Paragraph 1 Paragraph 1 Paragraph 1\n",
      "            Paragraph 1 Paragraph 1 Paragraph 1 Paragraph 1 Paragraph 1 Paragraph 1\n",
      "            Paragraph 1 Paragraph 1 Paragraph 1 </p>\n",
      "<p id=\"paragraph 2\">Here is a link to <a href=\"https://www.mail.ru\">Mail ru</a></p>\n",
      "</div>, <div class=\"text\" id=\"list\">\n",
      "<h2>Common Data Science Libraries</h2>\n",
      "<ul>\n",
      "<li>NumPy</li>\n",
      "<li>SciPy</li>\n",
      "<li>Pandas</li>\n",
      "<li>Scikit-Learn</li>\n",
      "</ul>\n",
      "</div>]\n"
     ]
    }
   ],
   "source": [
    "divAll = soup.find_all(\"div\")\n",
    "print(divAll)\n",
    "\n",
    "divClassText = soup.find_all(\"div\", class_=\"text\")\n",
    "print(divClassText)"
   ]
  },
  {
   "cell_type": "code",
   "execution_count": 93,
   "id": "7b5858a0",
   "metadata": {},
   "outputs": [
    {
     "name": "stdout",
     "output_type": "stream",
     "text": [
      ".....................\n",
      "paragraphs\n",
      "\n",
      "Paragraph 0\n",
      "            Paragraph 0 Paragraph 0 Paragraph 0 Paragraph 0 Paragraph 0 Paragraph 0\n",
      "            Paragraph 0 Paragraph 0 Paragraph 0 Paragraph 0 Paragraph 0 Paragraph 0\n",
      "            Paragraph 0 Paragraph 0 Paragraph 0 Paragraph 0 Paragraph 0 Paragraph 0\n",
      "            Paragraph 0 Paragraph 0 Paragraph 0 Paragraph 0 Paragraph 0 Paragraph 0\n",
      "            Paragraph 0 Paragraph 0 Paragraph 0 Paragraph 0 Paragraph 0 Paragraph 0\n",
      "            Paragraph 0 Paragraph 0 Paragraph 0 Paragraph 0 Paragraph 0 Paragraph 0\n",
      "            Paragraph 0 Paragraph 0 Paragraph 0 \n",
      "Paragraph 1\n",
      "            Paragraph 1 Paragraph 1 Paragraph 1 Paragraph 1 Paragraph 1 Paragraph 1\n",
      "            Paragraph 1 Paragraph 1 Paragraph 1 Paragraph 1 Paragraph 1 Paragraph 1\n",
      "            Paragraph 1 Paragraph 1 Paragraph 1 Paragraph 1 Paragraph 1 Paragraph 1\n",
      "            Paragraph 1 Paragraph 1 Paragraph 1 Paragraph 1 Paragraph 1 Paragraph 1\n",
      "            Paragraph 1 Paragraph 1 Paragraph 1 Paragraph 1 Paragraph 1 Paragraph 1\n",
      "            Paragraph 1 Paragraph 1 Paragraph 1 Paragraph 1 Paragraph 1 Paragraph 1\n",
      "            Paragraph 1 Paragraph 1 Paragraph 1 \n",
      "Here is a link to Mail ru\n",
      "\n",
      ".....................\n",
      ".....................\n",
      "list\n",
      "\n",
      "Common Data Science Libraries\n",
      "\n",
      "NumPy\n",
      "SciPy\n",
      "Pandas\n",
      "Scikit-Learn\n",
      "\n",
      "\n",
      ".....................\n"
     ]
    }
   ],
   "source": [
    "for div in divClassText:\n",
    "    print(\".....................\")\n",
    "    id = div.get(\"id\")\n",
    "    print(id)\n",
    "    print(div.text)\n",
    "    print(\".....................\")"
   ]
  },
  {
   "cell_type": "code",
   "execution_count": 94,
   "id": "6799b9e2",
   "metadata": {},
   "outputs": [
    {
     "name": "stdout",
     "output_type": "stream",
     "text": [
      "<div class=\"text\" id=\"paragraphs\">\n",
      "\n",
      "\n",
      "<p id=\"paragraph 2\">Here is a link to <a href=\"https://www.mail.ru\">Mail ru</a></p>\n",
      "</div>\n",
      "<p></p>\n",
      "<p>Новое содержание</p>\n"
     ]
    },
    {
     "data": {
      "text/plain": [
       "<p>Новое содержание</p>"
      ]
     },
     "execution_count": 94,
     "metadata": {},
     "output_type": "execute_result"
    }
   ],
   "source": [
    "soup.body.find(id=\"paragraph 0\").decompose()\n",
    "soup.body.find(id=\"paragraph 1\").decompose()\n",
    "print(soup.body.find(id=\"paragraphs\"))\n",
    "\n",
    "new_p=soup.new_tag('p')\n",
    "print(new_p)\n",
    "\n",
    "new_p.string='Новое содержание'\n",
    "print(new_p)\n",
    "soup.find(id='empty').append(new_p)"
   ]
  },
  {
   "cell_type": "code",
   "execution_count": 98,
   "id": "db221c01",
   "metadata": {},
   "outputs": [
    {
     "name": "stdout",
     "output_type": "stream",
     "text": [
      "b'<!doctype html><html lang=\"ru\" class=\"Theme Theme_color_morda-default Theme_root_morda-desktop document_neuro-redesign_yes document_headline-services_yes document_informers_redesign_yes document_services-suggest_yes document_services-suggest_new-icons document_extra-content_yes document_feed_yes document_overflow-scroll_yes i-ua_js_no i-ua_inlinesvg_yes\"><head xmlns:og=\"http://ogp.me/ns#\"><meta charSet=\"UTF-8\"/><title>\\xd0\\xaf\\xd0\\xbd\\xd0\\xb4\\xd0\\xb5\\xd0\\xba\\xd1\\x81 \\xe2\\x80\\x94 \\xd0\\xb1\\xd1\\x8b\\xd1\\x81\\xd1\\x82\\xd1\\x80\\xd1\\x8b\\xd0\\xb9 \\xd0\\xbf\\xd0\\xbe\\xd0\\xb8\\xd1\\x81\\xd0\\xba \\xd0\\xb2 \\xd0\\xb8\\xd0\\xbd\\xd1\\x82\\xd0\\xb5\\xd1\\x80\\xd0\\xbd\\xd0\\xb5\\xd1\\x82\\xd0\\xb5</title><link rel=\"apple-touch-icon\" href=\"https://yastatic.net/s3/home-static/_/nova/CZdA_knb.png\" sizes=\"76x76\"/><link rel=\"apple-touch-icon\" href=\"https://yastatic.net/s3/home-static/_/nova/DP8egjGw.png\" sizes=\"120x120\"/><link rel=\"apple-touch-icon\" href=\"https://yastatic.net/s3/home-static/_/nova/G1Rt0YW3.png\" sizes=\"152x152\"/><link rel=\"apple-touch-icon\" href=\"https://yastatic.net/s3/home-static/_/nova/DGq8Zi-m.png\" sizes=\"180x180\"/><link rel=\"alternate\" type=\"application/rss+xml\" title=\"\\xd0\\x9d\\xd0\\xbe\\xd0\\xb2\\xd0\\xbe\\xd1\\x81\\xd1\\x82\\xd0\\xb8 \\xd0'\n",
      "Яндекс — быстрый поиск в интернете\n"
     ]
    }
   ],
   "source": [
    "from urllib.request import urlopen\n",
    "\n",
    "url = \"https://ya.ru\"\n",
    "html_content = urlopen(url).read()\n",
    "print(html_content[:1000])\n",
    "\n",
    "sp = bs(html_content, \"html.parser\")\n",
    "print(sp.title.text)"
   ]
  }
 ],
 "metadata": {
  "kernelspec": {
   "display_name": "Python 3",
   "language": "python",
   "name": "python3"
  },
  "language_info": {
   "codemirror_mode": {
    "name": "ipython",
    "version": 3
   },
   "file_extension": ".py",
   "mimetype": "text/x-python",
   "name": "python",
   "nbconvert_exporter": "python",
   "pygments_lexer": "ipython3",
   "version": "3.12.10"
  }
 },
 "nbformat": 4,
 "nbformat_minor": 5
}
