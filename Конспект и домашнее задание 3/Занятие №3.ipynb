{
 "cells": [
  {
   "cell_type": "markdown",
   "metadata": {},
   "source": [
    "# Занятие №3"
   ]
  },
  {
   "cell_type": "code",
   "execution_count": 4,
   "metadata": {},
   "outputs": [],
   "source": [
    "import numpy as np\n",
    "import pandas as pd"
   ]
  },
  {
   "cell_type": "markdown",
   "metadata": {},
   "source": [
    "# Домашнее задание"
   ]
  },
  {
   "cell_type": "code",
   "execution_count": 45,
   "metadata": {},
   "outputs": [
    {
     "name": "stdout",
     "output_type": "stream",
     "text": [
      "через список Python a    1\n",
      "b    2\n",
      "c    3\n",
      "d    4\n",
      "e    5\n",
      "Name: Python list, dtype: int64\n",
      "через массив NumPy a    1\n",
      "b    2\n",
      "c    3\n",
      "d    4\n",
      "e    5\n",
      "Name: array NumPy, dtype: int64\n",
      "через скаляр a    666\n",
      "b    666\n",
      "c    666\n",
      "d    666\n",
      "e    666\n",
      "Name: scalar, dtype: int64\n",
      "через список Python city1    1\n",
      "city2    2\n",
      "city3    3\n",
      "city4    4\n",
      "city5    5\n",
      "Name: Python dict, dtype: int64\n"
     ]
    }
   ],
   "source": [
    "# 1. Привести различные способы создания объектов типа Series\n",
    "lst = [1, 2, 3, 4, 5]\n",
    "data_lst = pd.Series(data=lst, index=[\"a\", \"b\", \"c\", \"d\", \"e\"], name=\"Python list\")\n",
    "print(\"через список Python\", data_lst)\n",
    "\n",
    "array = np.array([1, 2, 3, 4, 5])\n",
    "data_array = pd.Series(data=array, index=[\"a\", \"b\", \"c\", \"d\", \"e\"], name=\"array NumPy\")\n",
    "print(\"через массив NumPy\", data_array)\n",
    "\n",
    "scalar = 666\n",
    "data_scalar = pd.Series(data=scalar, index=[\"a\", \"b\", \"c\", \"d\", \"e\"], name=\"scalar\")\n",
    "print(\"через скаляр\", data_scalar)\n",
    "\n",
    "dct = {\n",
    "    \"city1\": 1,\n",
    "    \"city2\": 2,\n",
    "    \"city3\": 3,\n",
    "    \"city4\": 4,\n",
    "    \"city5\": 5,\n",
    "}\n",
    "data_dict = pd.Series(data=dct, name=\"Python dict\")\n",
    "print(\"через список Python\", data_dict)"
   ]
  },
  {
   "cell_type": "code",
   "execution_count": 46,
   "metadata": {},
   "outputs": [
    {
     "name": "stdout",
     "output_type": "stream",
     "text": [
      "через объекты Series\n",
      "   column1  columns2\n",
      "0        1         6\n",
      "1        2         7\n",
      "2        3         8\n",
      "3        4         9\n",
      "4        5        10\n",
      "через список словарей\n",
      "       city1  city2\n",
      "city               \n",
      "city1    1.0    NaN\n",
      "city2    NaN    2.0\n",
      "через словари объектов Series\n",
      "   column1  column2\n",
      "a        1        6\n",
      "b        2        7\n",
      "c        3        8\n",
      "d        4        9\n",
      "e        5       10\n",
      "через двумерный массив NumPy\n",
      "   column1  column2\n",
      "a        1        6\n",
      "b        2        7\n",
      "c        3        8\n",
      "d        4        9\n",
      "e        5       10\n",
      "структурированный массив NumPy\n",
      "   column1  column2\n",
      "0        1        6\n",
      "1        2        7\n",
      "2        3        8\n",
      "3        4        9\n",
      "4        5       10\n"
     ]
    }
   ],
   "source": [
    "# 2. Привести различные способы создания объектов типа DataFrame\n",
    "lst = [1, 2, 3, 4, 5]\n",
    "lst1 = [6, 7, 8, 9, 10]\n",
    "data_lst = pd.Series(data=lst)\n",
    "data_lst1 = pd.Series(data=lst1)\n",
    "data = pd.DataFrame({\"column1\": lst, \"columns2\": lst1})\n",
    "print(\"через объекты Series\")\n",
    "print(data)\n",
    "\n",
    "lst = [{\"city\": \"city1\", \"city1\": 1}, {\"city\": \"city2\", \"city2\": 2}]\n",
    "data = pd.DataFrame(lst).set_index(\"city\")\n",
    "print(\"через список словарей\")\n",
    "print(data)\n",
    "\n",
    "dat = {\n",
    "    \"column1\": [1, 2, 3, 4, 5],\n",
    "    \"column2\": [6, 7, 8, 9, 10],\n",
    "}\n",
    "data = pd.DataFrame(dat, index=[\"a\", \"b\", \"c\", \"d\", \"e\"])\n",
    "print(\"через словари объектов Series\")\n",
    "print(data)\n",
    "\n",
    "array = np.array([[1, 6], [2, 7], [3, 8], [4, 9], [5, 10]])\n",
    "data = pd.DataFrame(dat, index=[\"a\", \"b\", \"c\", \"d\", \"e\"])\n",
    "print(\"через двумерный массив NumPy\")\n",
    "print(data)\n",
    "\n",
    "dtype = [(\"column1\", int), (\"column2\", int)]\n",
    "array = np.array([(1, 6), (2, 7), (3, 8), (4, 9), (5, 10)], dtype=dtype)\n",
    "data = pd.DataFrame(dat)\n",
    "print(\"структурированный массив NumPy\")\n",
    "print(data)"
   ]
  },
  {
   "cell_type": "code",
   "execution_count": 47,
   "metadata": {},
   "outputs": [
    {
     "name": "stdout",
     "output_type": "stream",
     "text": [
      "          area  popular\n",
      "city1   9991.0   1001.0\n",
      "city2   9992.0   1002.0\n",
      "city3   9993.0   1003.0\n",
      "city41     1.0   1004.0\n",
      "city42  9994.0      1.0\n",
      "city51     1.0   1005.0\n",
      "city52  9995.0      1.0\n"
     ]
    }
   ],
   "source": [
    "# 3. Объедините два объекта Series с неодинаковыми множествами ключей (индексов) так, чтобы вместо NaN было установлено значение 1\n",
    "popular = pd.Series(\n",
    "    {\n",
    "        \"city1\": 1001,\n",
    "        \"city2\": 1002,\n",
    "        \"city3\": 1003,\n",
    "        \"city41\": 1004,\n",
    "        \"city51\": 1005,\n",
    "    }\n",
    ")\n",
    "area = pd.Series(\n",
    "    {\n",
    "        \"city1\": 9991,\n",
    "        \"city2\": 9992,\n",
    "        \"city3\": 9993,\n",
    "        \"city42\": 9994,\n",
    "        \"city52\": 9995,\n",
    "    }\n",
    ")\n",
    "data = pd.DataFrame({\"area\": area, \"popular\": popular}).fillna(1)\n",
    "print(data)"
   ]
  },
  {
   "cell_type": "code",
   "execution_count": 48,
   "metadata": {},
   "outputs": [
    {
     "name": "stdout",
     "output_type": "stream",
     "text": [
      "DataFrame:\n",
      "   a  b  c  d\n",
      "0  8  3  4  7\n",
      "1  1  3  1  4\n",
      "2  9  1  3  4\n",
      "Первый столбец:\n",
      "0    8\n",
      "1    1\n",
      "2    9\n",
      "Name: a, dtype: int64\n",
      "Вычитание по столбцам:\n",
      "   a  b  c  d\n",
      "0  0 -5 -4 -1\n",
      "1  0  2  0  3\n",
      "2  0 -8 -6 -5\n"
     ]
    }
   ],
   "source": [
    "# 4. Переписать пример с транслирование для DataFrame так, чтобы вычитание происходило по СТОЛБЦАМ\n",
    "A = rng.integers(0, 10, (3, 4))\n",
    "df = pd.DataFrame(A, columns=[\"a\", \"b\", \"c\", \"d\"])\n",
    "\n",
    "print(\"DataFrame:\")\n",
    "print(df)\n",
    "\n",
    "print(\"Первый столбец:\")\n",
    "print(df.iloc[:, 0])\n",
    "\n",
    "print(\"Вычитание по столбцам:\")\n",
    "print(df.sub(df.iloc[:, 0], axis=0))"
   ]
  },
  {
   "cell_type": "code",
   "execution_count": 49,
   "metadata": {},
   "outputs": [
    {
     "name": "stdout",
     "output_type": "stream",
     "text": [
      "Исходный DataFrame:\n",
      "     A    B     C\n",
      "0  1.0  NaN  10.0\n",
      "1  NaN  7.0  20.0\n",
      "2  3.0  NaN   NaN\n",
      "3  NaN  9.0   NaN\n",
      "4  5.0  NaN  50.0\n",
      "После ffill():\n",
      "     A    B     C\n",
      "0  1.0  NaN  10.0\n",
      "1  1.0  7.0  20.0\n",
      "2  3.0  7.0  20.0\n",
      "3  3.0  9.0  20.0\n",
      "4  5.0  9.0  50.0\n",
      "После bfill():\n",
      "     A    B     C\n",
      "0  1.0  7.0  10.0\n",
      "1  3.0  7.0  20.0\n",
      "2  3.0  9.0  50.0\n",
      "3  5.0  9.0  50.0\n",
      "4  5.0  NaN  50.0\n"
     ]
    }
   ],
   "source": [
    "# 5. На примере объектов DataFrame продемонстрируйте использование методов ffill() и bfill()\n",
    "data = {\n",
    "    \"A\": [1, np.nan, 3, np.nan, 5],\n",
    "    \"B\": [np.nan, 7, np.nan, 9, np.nan],\n",
    "    \"C\": [10, 20, np.nan, np.nan, 50],\n",
    "}\n",
    "\n",
    "df = pd.DataFrame(data)\n",
    "print(\"Исходный DataFrame:\")\n",
    "print(df)\n",
    "\n",
    "# ffill() заполняет пропуски ПОСЛЕДНИМ известным значением сверху вниз:\n",
    "df1 = df.ffill()\n",
    "print(\"После ffill():\")\n",
    "print(df1)\n",
    "\n",
    "# bfill() заполняет пропуски СЛЕДУЮЩИМ известным значением снизу вверх:\n",
    "df2 = df.bfill()\n",
    "print(\"После bfill():\")\n",
    "print(df2)"
   ]
  },
  {
   "cell_type": "markdown",
   "metadata": {},
   "source": [
    "Pandas - расширение NumPy (структурированные массивы). Строки и столбцы индексируются метками, а не только числовыми значениями\n",
    "\n",
    "Series, DataFrame, Index"
   ]
  },
  {
   "cell_type": "markdown",
   "metadata": {},
   "source": [
    "### Series"
   ]
  },
  {
   "cell_type": "code",
   "execution_count": 4,
   "metadata": {},
   "outputs": [
    {
     "name": "stdout",
     "output_type": "stream",
     "text": [
      "0    0.25\n",
      "1    0.50\n",
      "2    0.75\n",
      "3    1.00\n",
      "dtype: float64\n",
      "<class 'pandas.core.series.Series'>\n"
     ]
    }
   ],
   "source": [
    "data = pd.Series([0.25, 0.5, 0.75, 1])\n",
    "print(data)\n",
    "print(type(data))"
   ]
  },
  {
   "cell_type": "code",
   "execution_count": 7,
   "metadata": {},
   "outputs": [
    {
     "name": "stdout",
     "output_type": "stream",
     "text": [
      "[0.25 0.5  0.75 1.  ] <class 'numpy.ndarray'>\n",
      "RangeIndex(start=0, stop=4, step=1) <class 'pandas.core.indexes.range.RangeIndex'>\n"
     ]
    }
   ],
   "source": [
    "print(data.values, type(data.values))\n",
    "print(data.index, type(data.index))"
   ]
  },
  {
   "cell_type": "code",
   "execution_count": 9,
   "metadata": {},
   "outputs": [
    {
     "name": "stdout",
     "output_type": "stream",
     "text": [
      "0    0.25\n",
      "1    0.50\n",
      "2    0.75\n",
      "3    1.00\n",
      "dtype: float64\n",
      "0.25\n",
      "1    0.50\n",
      "2    0.75\n",
      "dtype: float64\n"
     ]
    }
   ],
   "source": [
    "data = pd.Series([0.25, 0.5, 0.75, 1])\n",
    "print(data)\n",
    "print(data[0])\n",
    "print(data[1:3])"
   ]
  },
  {
   "cell_type": "code",
   "execution_count": 11,
   "metadata": {},
   "outputs": [
    {
     "name": "stdout",
     "output_type": "stream",
     "text": [
      "a    0.25\n",
      "b    0.50\n",
      "c    0.75\n",
      "d    1.00\n",
      "dtype: float64\n",
      "0.25\n",
      "b    0.50\n",
      "c    0.75\n",
      "d    1.00\n",
      "dtype: float64\n"
     ]
    }
   ],
   "source": [
    "data = pd.Series([0.25, 0.5, 0.75, 1], index=[\"a\", \"b\", \"c\", \"d\"])\n",
    "print(data)\n",
    "print(data[\"a\"])\n",
    "print(data[\"b\":\"d\"])"
   ]
  },
  {
   "cell_type": "code",
   "execution_count": 12,
   "metadata": {},
   "outputs": [
    {
     "name": "stdout",
     "output_type": "stream",
     "text": [
      "Index(['a', 'b', 'c', 'd'], dtype='object') <class 'pandas.core.indexes.base.Index'>\n"
     ]
    }
   ],
   "source": [
    "print(data.index, type(data.index))"
   ]
  },
  {
   "cell_type": "code",
   "execution_count": 15,
   "metadata": {},
   "outputs": [
    {
     "name": "stdout",
     "output_type": "stream",
     "text": [
      "1     0.25\n",
      "10    0.50\n",
      "7     0.75\n",
      "d     1.00\n",
      "dtype: float64\n",
      "0.25\n",
      "10    0.50\n",
      "7     0.75\n",
      "d     1.00\n",
      "dtype: float64\n"
     ]
    }
   ],
   "source": [
    "data = pd.Series([0.25, 0.5, 0.75, 1], index=[1, 10, 7, \"d\"])\n",
    "print(data)\n",
    "print(data[1])\n",
    "print(data[10:\"d\"])"
   ]
  },
  {
   "cell_type": "code",
   "execution_count": 18,
   "metadata": {},
   "outputs": [
    {
     "name": "stdout",
     "output_type": "stream",
     "text": [
      "city1    1001\n",
      "city2    1002\n",
      "city3    1003\n",
      "city4    1004\n",
      "city5    1005\n",
      "dtype: int64\n",
      "1004\n",
      "city4    1004\n",
      "city5    1005\n",
      "dtype: int64\n"
     ]
    }
   ],
   "source": [
    "popular_dict = {\n",
    "    \"city1\": 1001,\n",
    "    \"city2\": 1002,\n",
    "    \"city3\": 1003,\n",
    "    \"city4\": 1004,\n",
    "    \"city5\": 1005,\n",
    "}\n",
    "population = pd.Series(popular_dict)\n",
    "print(population)\n",
    "print(population[\"city4\"])\n",
    "print(population[\"city4\":\"city5\"])"
   ]
  },
  {
   "cell_type": "markdown",
   "metadata": {},
   "source": [
    "Для создания Series можно использовать\n",
    "\n",
    "- списки Python или массивы NumPy\n",
    "\n",
    "- скалярные значения\n",
    "\n",
    "- словари"
   ]
  },
  {
   "cell_type": "markdown",
   "metadata": {},
   "source": [
    "## 1. Привести различные способы создания объектов типа Series"
   ]
  },
  {
   "cell_type": "markdown",
   "metadata": {},
   "source": [
    "Для создания Series можно использовать\n",
    "- списки Python или массивы NumPy\n",
    "- скалярные значение\n",
    "- словари"
   ]
  },
  {
   "cell_type": "code",
   "execution_count": 7,
   "metadata": {},
   "outputs": [
    {
     "name": "stdout",
     "output_type": "stream",
     "text": [
      "через список Python a    1\n",
      "b    2\n",
      "c    3\n",
      "d    4\n",
      "e    5\n",
      "Name: Python list, dtype: int64\n",
      "через массив NumPy a    1\n",
      "b    2\n",
      "c    3\n",
      "d    4\n",
      "e    5\n",
      "Name: array NumPy, dtype: int64\n",
      "через скаляр a    666\n",
      "b    666\n",
      "c    666\n",
      "d    666\n",
      "e    666\n",
      "Name: scalar, dtype: int64\n",
      "через список Python city1    1\n",
      "city2    2\n",
      "city3    3\n",
      "city4    4\n",
      "city5    5\n",
      "Name: Python dict, dtype: int64\n"
     ]
    }
   ],
   "source": [
    "lst=[1,2,3,4,5]\n",
    "data_lst = pd.Series(data=lst, index=[\"a\", \"b\", \"c\", \"d\",'e'],name='Python list')\n",
    "print('через список Python',data_lst)\n",
    "\n",
    "array=np.array([1,2,3,4,5])\n",
    "data_array = pd.Series(data=array, index=[\"a\", \"b\", \"c\", \"d\", \"e\"], name=\"array NumPy\")\n",
    "print(\"через массив NumPy\", data_array)\n",
    "\n",
    "scalar=666\n",
    "data_scalar = pd.Series(data=scalar, index=[\"a\", \"b\", \"c\", \"d\", \"e\"], name=\"scalar\")\n",
    "print(\"через скаляр\", data_scalar)\n",
    "\n",
    "dct = {\n",
    "    \"city1\": 1,\n",
    "    \"city2\": 2,\n",
    "    \"city3\": 3,\n",
    "    \"city4\": 4,\n",
    "    \"city5\": 5,\n",
    "}\n",
    "data_dict = pd.Series(data=dct, name=\"Python dict\")\n",
    "print(\"через список Python\", data_dict)"
   ]
  },
  {
   "cell_type": "markdown",
   "metadata": {},
   "source": [
    "### DataFrame"
   ]
  },
  {
   "cell_type": "markdown",
   "metadata": {},
   "source": [
    "DataFrame - двумерный массив с явно определенными "
   ]
  },
  {
   "cell_type": "code",
   "execution_count": 5,
   "metadata": {},
   "outputs": [
    {
     "name": "stdout",
     "output_type": "stream",
     "text": [
      "city1    1001\n",
      "city2    1002\n",
      "city3    1003\n",
      "city4    1004\n",
      "city5    1005\n",
      "dtype: int64\n",
      "city1    9991\n",
      "city2    9992\n",
      "city3    9993\n",
      "city4    9994\n",
      "city5    9995\n",
      "dtype: int64\n"
     ]
    }
   ],
   "source": [
    "popular_dict = {\n",
    "    \"city1\": 1001,\n",
    "    \"city2\": 1002,\n",
    "    \"city3\": 1003,\n",
    "    \"city4\": 1004,\n",
    "    \"city5\": 1005,\n",
    "}\n",
    "area_dict = {\n",
    "    \"city1\": 9991,\n",
    "    \"city2\": 9992,\n",
    "    \"city3\": 9993,\n",
    "    \"city4\": 9994,\n",
    "    \"city5\": 9995,\n",
    "}\n",
    "population = pd.Series(popular_dict)\n",
    "area = pd.Series(area_dict)\n",
    "print(population)\n",
    "print(area)"
   ]
  },
  {
   "cell_type": "code",
   "execution_count": 20,
   "metadata": {},
   "outputs": [
    {
     "name": "stdout",
     "output_type": "stream",
     "text": [
      "       population  area\n",
      "city1        1001  9991\n",
      "city2        1002  9992\n",
      "city3        1003  9993\n",
      "city4        1004  9994\n",
      "city5        1005  9995\n"
     ]
    }
   ],
   "source": [
    "states = pd.DataFrame({\"population\": population, \"area\": area})\n",
    "print(states)"
   ]
  },
  {
   "cell_type": "code",
   "execution_count": 21,
   "metadata": {},
   "outputs": [
    {
     "name": "stdout",
     "output_type": "stream",
     "text": [
      "[[1001 9991]\n",
      " [1002 9992]\n",
      " [1003 9993]\n",
      " [1004 9994]\n",
      " [1005 9995]] <class 'numpy.ndarray'>\n",
      "Index(['city1', 'city2', 'city3', 'city4', 'city5'], dtype='object') <class 'pandas.core.indexes.base.Index'>\n",
      "Index(['population', 'area'], dtype='object') <class 'pandas.core.indexes.base.Index'>\n"
     ]
    }
   ],
   "source": [
    "print(states.values, type(states.values))\n",
    "print(states.index, type(states.index))\n",
    "print(states.columns, type(states.columns))"
   ]
  },
  {
   "cell_type": "code",
   "execution_count": 22,
   "metadata": {},
   "outputs": [
    {
     "name": "stdout",
     "output_type": "stream",
     "text": [
      "city1    9991\n",
      "city2    9992\n",
      "city3    9993\n",
      "city4    9994\n",
      "city5    9995\n",
      "Name: area, dtype: int64\n"
     ]
    }
   ],
   "source": [
    "print(states[\"area\"])"
   ]
  },
  {
   "cell_type": "markdown",
   "metadata": {},
   "source": [
    "DataFrame. Способы создания\n",
    "\n",
    "- через объекты Series\n",
    "\n",
    "- списки словарей\n",
    "\n",
    "- словари объектов Series\n",
    "\n",
    "- двумерный массив NumPy\n",
    "\n",
    "- структурированный массив NumPy"
   ]
  },
  {
   "cell_type": "markdown",
   "metadata": {},
   "source": [
    "## 2. Привести различные способы создания объектов DataFrame"
   ]
  },
  {
   "cell_type": "code",
   "execution_count": 27,
   "metadata": {},
   "outputs": [
    {
     "name": "stdout",
     "output_type": "stream",
     "text": [
      "через объекты Series\n",
      "   column1  columns2\n",
      "0        1         6\n",
      "1        2         7\n",
      "2        3         8\n",
      "3        4         9\n",
      "4        5        10\n",
      "через список словарей\n",
      "       city1  city2\n",
      "city               \n",
      "city1    1.0    NaN\n",
      "city2    NaN    2.0\n",
      "через словари объектов Series\n",
      "   column1  column2\n",
      "a        1        6\n",
      "b        2        7\n",
      "c        3        8\n",
      "d        4        9\n",
      "e        5       10\n",
      "через двумерный массив NumPy\n",
      "   column1  column2\n",
      "a        1        6\n",
      "b        2        7\n",
      "c        3        8\n",
      "d        4        9\n",
      "e        5       10\n",
      "структурированный массив NumPy\n",
      "   column1  column2\n",
      "0        1        6\n",
      "1        2        7\n",
      "2        3        8\n",
      "3        4        9\n",
      "4        5       10\n"
     ]
    }
   ],
   "source": [
    "lst = [1, 2, 3, 4, 5]\n",
    "lst1 = [6, 7, 8, 9, 10]\n",
    "data_lst = pd.Series(data=lst)\n",
    "data_lst1 = pd.Series(data=lst1)\n",
    "data = pd.DataFrame({\"column1\": lst, \"columns2\": lst1})\n",
    "print(\"через объекты Series\")\n",
    "print(data)\n",
    "\n",
    "lst = [{\"city\": \"city1\", \"city1\": 1}, {\"city\": \"city2\", \"city2\": 2}]\n",
    "data = pd.DataFrame(lst).set_index(\"city\")\n",
    "print(\"через список словарей\")\n",
    "print(data)\n",
    "\n",
    "dat = {\n",
    "    \"column1\": [1, 2, 3, 4, 5],\n",
    "    \"column2\": [6, 7, 8, 9, 10],\n",
    "}\n",
    "data = pd.DataFrame(dat, index=[\"a\", \"b\", \"c\", \"d\", \"e\"])\n",
    "print(\"через словари объектов Series\")\n",
    "print(data)\n",
    "\n",
    "array = np.array([[1, 6], [2, 7], [3, 8], [4, 9], [5, 10]])\n",
    "data = pd.DataFrame(dat, index=[\"a\", \"b\", \"c\", \"d\", \"e\"])\n",
    "print(\"через двумерный массив NumPy\")\n",
    "print(data)\n",
    "\n",
    "dtype = [(\"column1\", int), (\"column2\", int)]\n",
    "array = np.array([(1, 6), (2, 7), (3, 8), (4, 9), (5, 10)], dtype=dtype)\n",
    "data = pd.DataFrame(dat)\n",
    "print(\"структурированный массив NumPy\")\n",
    "print(data)"
   ]
  },
  {
   "cell_type": "markdown",
   "metadata": {},
   "source": [
    "### Index"
   ]
  },
  {
   "cell_type": "markdown",
   "metadata": {},
   "source": [
    "Index - способ организации ссылки на данные объектов Series и DataFrame. \n",
    "\n",
    "Index - неизменяем, упорядочен, является мультимножеством(могут быть повторяющиеся значения)"
   ]
  },
  {
   "cell_type": "code",
   "execution_count": 26,
   "metadata": {},
   "outputs": [
    {
     "name": "stdout",
     "output_type": "stream",
     "text": [
      "Index([2, 3, 5, 7, 11], dtype='int64')\n",
      "3\n",
      "Index([2, 5, 11], dtype='int64')\n"
     ]
    }
   ],
   "source": [
    "ind = pd.Index([2, 3, 5, 7, 11])\n",
    "print(ind)\n",
    "print(ind[1])\n",
    "print(ind[::2])"
   ]
  },
  {
   "cell_type": "code",
   "execution_count": 27,
   "metadata": {},
   "outputs": [
    {
     "ename": "TypeError",
     "evalue": "Index does not support mutable operations",
     "output_type": "error",
     "traceback": [
      "\u001b[1;31m---------------------------------------------------------------------------\u001b[0m",
      "\u001b[1;31mTypeError\u001b[0m                                 Traceback (most recent call last)",
      "Cell \u001b[1;32mIn[27], line 1\u001b[0m\n\u001b[1;32m----> 1\u001b[0m \u001b[43mind\u001b[49m\u001b[43m[\u001b[49m\u001b[38;5;241;43m1\u001b[39;49m\u001b[43m]\u001b[49m \u001b[38;5;241m=\u001b[39m \u001b[38;5;241m5\u001b[39m\n",
      "File \u001b[1;32m~\\AppData\\Local\\Packages\\PythonSoftwareFoundation.Python.3.13_qbz5n2kfra8p0\\LocalCache\\local-packages\\Python313\\site-packages\\pandas\\core\\indexes\\base.py:5371\u001b[0m, in \u001b[0;36mIndex.__setitem__\u001b[1;34m(self, key, value)\u001b[0m\n\u001b[0;32m   5369\u001b[0m \u001b[38;5;129m@final\u001b[39m\n\u001b[0;32m   5370\u001b[0m \u001b[38;5;28;01mdef\u001b[39;00m \u001b[38;5;21m__setitem__\u001b[39m(\u001b[38;5;28mself\u001b[39m, key, value) \u001b[38;5;241m-\u001b[39m\u001b[38;5;241m>\u001b[39m \u001b[38;5;28;01mNone\u001b[39;00m:\n\u001b[1;32m-> 5371\u001b[0m     \u001b[38;5;28;01mraise\u001b[39;00m \u001b[38;5;167;01mTypeError\u001b[39;00m(\u001b[38;5;124m\"\u001b[39m\u001b[38;5;124mIndex does not support mutable operations\u001b[39m\u001b[38;5;124m\"\u001b[39m)\n",
      "\u001b[1;31mTypeError\u001b[0m: Index does not support mutable operations"
     ]
    }
   ],
   "source": [
    "ind[1] = 5"
   ]
  },
  {
   "cell_type": "markdown",
   "metadata": {},
   "source": [
    "Index - следует соглашениям объекта set (python)"
   ]
  },
  {
   "cell_type": "code",
   "execution_count": 30,
   "metadata": {},
   "outputs": [
    {
     "name": "stdout",
     "output_type": "stream",
     "text": [
      "Index([2, 3, 4, 5], dtype='int64')\n"
     ]
    }
   ],
   "source": [
    "indA = pd.Index([1, 2, 3, 4, 5])\n",
    "indB = pd.Index([2, 3, 4, 5, 6])\n",
    "print(indA.intersection(indB))"
   ]
  },
  {
   "cell_type": "markdown",
   "metadata": {},
   "source": [
    "### Выборка данных из Series"
   ]
  },
  {
   "cell_type": "markdown",
   "metadata": {},
   "source": [
    "Ведет себя как словарь"
   ]
  },
  {
   "cell_type": "code",
   "execution_count": null,
   "metadata": {},
   "outputs": [
    {
     "name": "stdout",
     "output_type": "stream",
     "text": [
      "True\n",
      "False\n",
      "Index(['a', 'b', 'c', 'd'], dtype='object')\n",
      "[('a', 0.25), ('b', 0.5), ('c', 0.75), ('d', 1.0)]\n",
      "a     100.00\n",
      "b       0.50\n",
      "c       0.75\n",
      "d       1.00\n",
      "z    1000.00\n",
      "dtype: float64\n"
     ]
    }
   ],
   "source": [
    "data = pd.Series([0.25, 0.5, 0.75, 1], index=[\"a\", \"b\", \"c\", \"d\"])\n",
    "print(\"a\" in data)\n",
    "print(\"z\" in data)\n",
    "print(data.keys())\n",
    "print(list(data.items()))\n",
    "data[\"a\"] = 100\n",
    "data[\"z\"] = 1000\n",
    "print(data)"
   ]
  },
  {
   "cell_type": "markdown",
   "metadata": {},
   "source": [
    "как одномерный массив"
   ]
  },
  {
   "cell_type": "code",
   "execution_count": 44,
   "metadata": {},
   "outputs": [
    {
     "name": "stdout",
     "output_type": "stream",
     "text": [
      "a    0.25\n",
      "b    0.50\n",
      "c    0.75\n",
      "dtype: float64\n",
      "a    0.25\n",
      "b    0.50\n",
      "dtype: float64\n",
      "c    0.75\n",
      "d    1.00\n",
      "dtype: float64\n",
      "c    0.75\n",
      "dtype: float64\n",
      "a    0.25\n",
      "d    1.00\n",
      "dtype: float64\n"
     ]
    }
   ],
   "source": [
    "data = pd.Series([0.25, 0.5, 0.75, 1], index=[\"a\", \"b\", \"c\", \"d\"])\n",
    "print(data[\"a\":\"c\"])\n",
    "print(data[0:2])\n",
    "print(data[data > 0.5])\n",
    "print(data[(data > 0.5) & (data < 1)])\n",
    "print(data[[\"a\", \"d\"]])"
   ]
  },
  {
   "cell_type": "markdown",
   "metadata": {},
   "source": [
    "### Атрибуты-индексаторы"
   ]
  },
  {
   "cell_type": "code",
   "execution_count": 47,
   "metadata": {},
   "outputs": [
    {
     "name": "stdout",
     "output_type": "stream",
     "text": [
      "0.25\n"
     ]
    }
   ],
   "source": [
    "data = pd.Series([0.25, 0.5, 0.75, 1], index=[1, 3, 10, 15])\n",
    "print(data[1])"
   ]
  },
  {
   "cell_type": "code",
   "execution_count": 48,
   "metadata": {},
   "outputs": [
    {
     "name": "stdout",
     "output_type": "stream",
     "text": [
      "0.25\n",
      "0.5\n"
     ]
    }
   ],
   "source": [
    "print(data.loc[1])\n",
    "print(data.iloc[1])"
   ]
  },
  {
   "cell_type": "markdown",
   "metadata": {},
   "source": [
    "### Выборка данных из DataFrame"
   ]
  },
  {
   "cell_type": "markdown",
   "metadata": {},
   "source": [
    "как словарь"
   ]
  },
  {
   "cell_type": "code",
   "execution_count": 53,
   "metadata": {},
   "outputs": [
    {
     "name": "stdout",
     "output_type": "stream",
     "text": [
      "       area   pop\n",
      "city1  9991  1001\n",
      "city2  9992  1002\n",
      "city3  9993  1003\n",
      "city4  9994  1004\n",
      "city5  9995  1005\n",
      "city1    9991\n",
      "city2    9992\n",
      "city3    9993\n",
      "city4    9994\n",
      "city5    9995\n",
      "Name: area, dtype: int64\n",
      "city1    9991\n",
      "city2    9992\n",
      "city3    9993\n",
      "city4    9994\n",
      "city5    9995\n",
      "Name: area, dtype: int64\n"
     ]
    }
   ],
   "source": [
    "popular_dict = {\n",
    "    \"city1\": 1001,\n",
    "    \"city2\": 1002,\n",
    "    \"city3\": 1003,\n",
    "    \"city4\": 1004,\n",
    "    \"city5\": 1005,\n",
    "}\n",
    "area_dict = {\n",
    "    \"city1\": 9991,\n",
    "    \"city2\": 9992,\n",
    "    \"city3\": 9993,\n",
    "    \"city4\": 9994,\n",
    "    \"city5\": 9995,\n",
    "}\n",
    "pop = pd.Series(popular_dict)\n",
    "area = pd.Series(area_dict)\n",
    "data = pd.DataFrame({\"area\": area, \"pop\": pop})\n",
    "print(data)\n",
    "print(data[\"area\"])\n",
    "print(data.area)"
   ]
  },
  {
   "cell_type": "code",
   "execution_count": 54,
   "metadata": {},
   "outputs": [
    {
     "name": "stdout",
     "output_type": "stream",
     "text": [
      "False\n"
     ]
    }
   ],
   "source": [
    "print(data.pop is data[\"pop\"])"
   ]
  },
  {
   "cell_type": "code",
   "execution_count": 56,
   "metadata": {},
   "outputs": [
    {
     "name": "stdout",
     "output_type": "stream",
     "text": [
      "       area   pop   new\n",
      "city1  9991  1001  9991\n",
      "city2  9992  1002  9992\n",
      "city3  9993  1003  9993\n",
      "city4  9994  1004  9994\n",
      "city5  9995  1005  9995\n"
     ]
    }
   ],
   "source": [
    "data[\"new\"] = data[\"area\"]\n",
    "print(data)"
   ]
  },
  {
   "cell_type": "code",
   "execution_count": 57,
   "metadata": {},
   "outputs": [
    {
     "name": "stdout",
     "output_type": "stream",
     "text": [
      "       area   pop   new      new1\n",
      "city1  9991  1001  9991  9.981019\n",
      "city2  9992  1002  9992  9.972056\n",
      "city3  9993  1003  9993  9.963111\n",
      "city4  9994  1004  9994  9.954183\n",
      "city5  9995  1005  9995  9.945274\n"
     ]
    }
   ],
   "source": [
    "data[\"new1\"] = data[\"area\"] / data[\"pop\"]\n",
    "print(data)"
   ]
  },
  {
   "cell_type": "markdown",
   "metadata": {},
   "source": [
    "как двумерный NumPy-массив"
   ]
  },
  {
   "cell_type": "code",
   "execution_count": 61,
   "metadata": {},
   "outputs": [
    {
     "name": "stdout",
     "output_type": "stream",
     "text": [
      "       area1  pop1\n",
      "city1   9991  1001\n",
      "city2   9992  1002\n",
      "city3   9993  1003\n",
      "city4   9994  1004\n",
      "city5   9995  1005\n",
      "[[9991 1001]\n",
      " [9992 1002]\n",
      " [9993 1003]\n",
      " [9994 1004]\n",
      " [9995 1005]]\n",
      "       city1  city2  city3  city4  city5\n",
      "area1   9991   9992   9993   9994   9995\n",
      "pop1    1001   1002   1003   1004   1005\n"
     ]
    }
   ],
   "source": [
    "popular_dict = {\n",
    "    \"city1\": 1001,\n",
    "    \"city2\": 1002,\n",
    "    \"city3\": 1003,\n",
    "    \"city4\": 1004,\n",
    "    \"city5\": 1005,\n",
    "}\n",
    "area_dict = {\n",
    "    \"city1\": 9991,\n",
    "    \"city2\": 9992,\n",
    "    \"city3\": 9993,\n",
    "    \"city4\": 9994,\n",
    "    \"city5\": 9995,\n",
    "}\n",
    "pop = pd.Series(popular_dict)\n",
    "area = pd.Series(area_dict)\n",
    "data = pd.DataFrame({\"area1\": area, \"pop1\": pop})\n",
    "print(data)\n",
    "print(data.values)\n",
    "print(data.T)"
   ]
  },
  {
   "cell_type": "code",
   "execution_count": 64,
   "metadata": {},
   "outputs": [
    {
     "name": "stdout",
     "output_type": "stream",
     "text": [
      "city1    9991\n",
      "city2    9992\n",
      "city3    9993\n",
      "city4    9994\n",
      "city5    9995\n",
      "Name: area1, dtype: int64\n",
      "[9991 1001]\n",
      "[[9991 1001]\n",
      " [9992 1002]\n",
      " [9993 1003]]\n"
     ]
    }
   ],
   "source": [
    "print(data[\"area1\"])\n",
    "print(data.values[0])\n",
    "print(data.values[0:3])"
   ]
  },
  {
   "cell_type": "markdown",
   "metadata": {},
   "source": [
    "### Атрибуты-индексаторы"
   ]
  },
  {
   "cell_type": "code",
   "execution_count": 78,
   "metadata": {},
   "outputs": [
    {
     "name": "stdout",
     "output_type": "stream",
     "text": [
      "       area1  pop1   pop\n",
      "city1   9991  1001  1001\n",
      "city2   9992  1002  1002\n",
      "city3   9993  1003  1003\n",
      "city4   9994  1004  1004\n",
      "city5   9995  1005  1005\n",
      "       pop1\n",
      "city1  1001\n",
      "city2  1002\n",
      "city3  1003\n",
      "       pop1   pop\n",
      "city1  1001  1001\n",
      "city2  1002  1002\n",
      "city3  1003  1003\n",
      "city4  1004  1004\n",
      "city5  1005  1005\n",
      "       area1   pop\n",
      "city3   9993  1003\n",
      "city4   9994  1004\n",
      "city5   9995  1005\n",
      "       area1  pop1   pop\n",
      "city1   9991  1001  9999\n",
      "city2   9992  1002  1002\n",
      "city3   9993  1003  1003\n",
      "city4   9994  1004  1004\n",
      "city5   9995  1005  1005\n"
     ]
    }
   ],
   "source": [
    "popular_dict = {\n",
    "    \"city1\": 1001,\n",
    "    \"city2\": 1002,\n",
    "    \"city3\": 1003,\n",
    "    \"city4\": 1004,\n",
    "    \"city5\": 1005,\n",
    "}\n",
    "area_dict = {\n",
    "    \"city1\": 9991,\n",
    "    \"city2\": 9992,\n",
    "    \"city3\": 9993,\n",
    "    \"city4\": 9994,\n",
    "    \"city5\": 9995,\n",
    "}\n",
    "pop = pd.Series(popular_dict)\n",
    "area = pd.Series(area_dict)\n",
    "data = pd.DataFrame({\"area1\": area, \"pop1\": pop, \"pop\": pop})\n",
    "print(data)\n",
    "print(data.iloc[:3, 1:2])\n",
    "print(data.loc[:\"city_4\", \"pop1\":\"pop\"])\n",
    "print(data.loc[data[\"pop\"] > 1002, [\"area1\", \"pop\"]])\n",
    "data.iloc[0, 2] = 9999\n",
    "print(data)"
   ]
  },
  {
   "cell_type": "code",
   "execution_count": 95,
   "metadata": {},
   "outputs": [
    {
     "name": "stdout",
     "output_type": "stream",
     "text": [
      "0    1\n",
      "1    4\n",
      "2    4\n",
      "3    7\n",
      "dtype: int64\n"
     ]
    }
   ],
   "source": [
    "rng = np.random.default_rng()\n",
    "s = pd.Series(rng.integers(0, 10, 4))\n",
    "print(s)"
   ]
  },
  {
   "cell_type": "code",
   "execution_count": 96,
   "metadata": {},
   "outputs": [
    {
     "name": "stdout",
     "output_type": "stream",
     "text": [
      "0       2.718282\n",
      "1      54.598150\n",
      "2      54.598150\n",
      "3    1096.633158\n",
      "dtype: float64\n"
     ]
    }
   ],
   "source": [
    "print(np.exp(s))"
   ]
  },
  {
   "cell_type": "code",
   "execution_count": 98,
   "metadata": {},
   "outputs": [
    {
     "name": "stdout",
     "output_type": "stream",
     "text": [
      "         area1    pop1\n",
      "city1   9991.0  1001.0\n",
      "city2   9992.0  1002.0\n",
      "city3   9993.0  1003.0\n",
      "city41     NaN  1004.0\n",
      "city42  9994.0     NaN\n",
      "city51     NaN  1005.0\n",
      "city52  9995.0     NaN\n"
     ]
    }
   ],
   "source": [
    "popular_dict = {\n",
    "    \"city1\": 1001,\n",
    "    \"city2\": 1002,\n",
    "    \"city3\": 1003,\n",
    "    \"city41\": 1004,\n",
    "    \"city51\": 1005,\n",
    "}\n",
    "area_dict = {\n",
    "    \"city1\": 9991,\n",
    "    \"city2\": 9992,\n",
    "    \"city3\": 9993,\n",
    "    \"city42\": 9994,\n",
    "    \"city52\": 9995,\n",
    "}\n",
    "pop = pd.Series(popular_dict)\n",
    "area = pd.Series(area_dict)\n",
    "data = pd.DataFrame({\"area1\": area, \"pop1\": pop})\n",
    "print(data)"
   ]
  },
  {
   "cell_type": "markdown",
   "metadata": {},
   "source": [
    "## 3. Объедините два объекта Series с неодинаковыми множествами ключей(индексов) так, чтобы вместе NaN было установлено значение 1"
   ]
  },
  {
   "cell_type": "code",
   "execution_count": 30,
   "metadata": {},
   "outputs": [
    {
     "name": "stdout",
     "output_type": "stream",
     "text": [
      "          area  popular\n",
      "city1   9991.0   1001.0\n",
      "city2   9992.0   1002.0\n",
      "city3   9993.0   1003.0\n",
      "city41     1.0   1004.0\n",
      "city42  9994.0      1.0\n",
      "city51     1.0   1005.0\n",
      "city52  9995.0      1.0\n"
     ]
    }
   ],
   "source": [
    "popular = pd.Series({\n",
    "    \"city1\": 1001,\n",
    "    \"city2\": 1002,\n",
    "    \"city3\": 1003,\n",
    "    \"city41\": 1004,\n",
    "    \"city51\": 1005,\n",
    "})\n",
    "area = pd.Series({\n",
    "    \"city1\": 9991,\n",
    "    \"city2\": 9992,\n",
    "    \"city3\": 9993,\n",
    "    \"city42\": 9994,\n",
    "    \"city52\": 9995,\n",
    "})\n",
    "data = pd.DataFrame({\"area\": area, \"popular\": popular}).fillna(1)\n",
    "print(data)"
   ]
  },
  {
   "cell_type": "code",
   "execution_count": 104,
   "metadata": {},
   "outputs": [
    {
     "name": "stdout",
     "output_type": "stream",
     "text": [
      "   a  b\n",
      "0  7  4\n",
      "1  7  6\n",
      "   a  b  c\n",
      "0  7  2  6\n",
      "1  3  8  5\n",
      "2  6  7  7\n",
      "      a     b   c\n",
      "0  14.0   6.0 NaN\n",
      "1  10.0  14.0 NaN\n",
      "2   NaN   NaN NaN\n"
     ]
    }
   ],
   "source": [
    "dfA = pd.DataFrame(rng.integers(0, 10, (2, 2)), columns=[\"a\", \"b\"])\n",
    "dfB = pd.DataFrame(rng.integers(0, 10, (3, 3)), columns=[\"a\", \"b\", \"c\"])\n",
    "print(dfA)\n",
    "print(dfB)\n",
    "print(dfA + dfB)"
   ]
  },
  {
   "cell_type": "code",
   "execution_count": 107,
   "metadata": {},
   "outputs": [
    {
     "name": "stdout",
     "output_type": "stream",
     "text": [
      "[[4 5 7 9]\n",
      " [0 1 8 9]\n",
      " [2 3 8 4]]\n",
      "[4 5 7 9]\n",
      "[[ 0  0  0  0]\n",
      " [-4 -4  1  0]\n",
      " [-2 -2  1 -5]]\n"
     ]
    }
   ],
   "source": [
    "rng = np.random.default_rng(1)\n",
    "A = rng.integers(0, 10, (3, 4))\n",
    "print(A)\n",
    "print(A[0])\n",
    "print(A - A[0])"
   ]
  },
  {
   "cell_type": "code",
   "execution_count": 113,
   "metadata": {},
   "outputs": [
    {
     "name": "stdout",
     "output_type": "stream",
     "text": [
      "   a  b  c  d\n",
      "0  4  5  7  9\n",
      "1  0  1  8  9\n",
      "2  2  3  8  4\n",
      "a    4\n",
      "b    5\n",
      "c    7\n",
      "d    9\n",
      "Name: 0, dtype: int64\n",
      "   a  b  c  d\n",
      "0  0  0  0  0\n",
      "1 -4 -4  1  0\n",
      "2 -2 -2  1 -5\n",
      "a    4\n",
      "c    7\n",
      "Name: 0, dtype: int64\n",
      "     a   b    c   d\n",
      "0  0.0 NaN  0.0 NaN\n",
      "1 -4.0 NaN  1.0 NaN\n",
      "2 -2.0 NaN  1.0 NaN\n"
     ]
    }
   ],
   "source": [
    "df = pd.DataFrame(A, columns=[\"a\", \"b\", \"c\", \"d\"])\n",
    "print(df)\n",
    "print(df.iloc[0])\n",
    "print(df - df.iloc[0])\n",
    "print(df.iloc[0, ::2])\n",
    "print(df - df.iloc[0, ::2])"
   ]
  },
  {
   "cell_type": "markdown",
   "metadata": {},
   "source": [
    "## 4. Переписать пример с транслированием для DataFrame так, чтобы вычитание происходило по столбцам"
   ]
  },
  {
   "cell_type": "code",
   "execution_count": 42,
   "metadata": {},
   "outputs": [
    {
     "name": "stdout",
     "output_type": "stream",
     "text": [
      "DataFrame:\n",
      "   a  b  c  d\n",
      "0  2  8  2  4\n",
      "1  6  5  0  0\n",
      "2  8  7  8  5\n",
      "Первый столбец:\n",
      "0    2\n",
      "1    6\n",
      "2    8\n",
      "Name: a, dtype: int64\n",
      "Вычитание по столбцам:\n",
      "   a  b  c  d\n",
      "0  0  6  0  2\n",
      "1  0 -1 -6 -6\n",
      "2  0 -1  0 -3\n"
     ]
    }
   ],
   "source": [
    "A = rng.integers(0, 10, (3, 4))\n",
    "df = pd.DataFrame(A, columns=[\"a\", \"b\", \"c\", \"d\"])\n",
    "\n",
    "print(\"DataFrame:\")\n",
    "print(df)\n",
    "\n",
    "print(\"Первый столбец:\")\n",
    "print(df.iloc[:, 0])\n",
    "\n",
    "print(\"Вычитание по столбцам:\")\n",
    "print(df.sub(df.iloc[:, 0], axis=0))"
   ]
  },
  {
   "cell_type": "markdown",
   "metadata": {},
   "source": [
    "### NA-значения: NaN, null, -99999"
   ]
  },
  {
   "cell_type": "markdown",
   "metadata": {},
   "source": [
    "Pandas. Два способа хранения отсутсвующих значений\n",
    "\n",
    "- индикаторы: NaN, None\n",
    "\n",
    "- null"
   ]
  },
  {
   "cell_type": "markdown",
   "metadata": {},
   "source": [
    "None - объект (накладные расходы). Не работает с sum, min"
   ]
  },
  {
   "cell_type": "code",
   "execution_count": 115,
   "metadata": {},
   "outputs": [
    {
     "name": "stdout",
     "output_type": "stream",
     "text": [
      "6\n"
     ]
    }
   ],
   "source": [
    "val1 = np.array([1, 2, 3])\n",
    "print(val1.sum())"
   ]
  },
  {
   "cell_type": "code",
   "execution_count": 43,
   "metadata": {},
   "outputs": [
    {
     "ename": "TypeError",
     "evalue": "unsupported operand type(s) for +: 'int' and 'NoneType'",
     "output_type": "error",
     "traceback": [
      "\u001b[1;31m---------------------------------------------------------------------------\u001b[0m",
      "\u001b[1;31mTypeError\u001b[0m                                 Traceback (most recent call last)",
      "Cell \u001b[1;32mIn[43], line 2\u001b[0m\n\u001b[0;32m      1\u001b[0m val1 \u001b[38;5;241m=\u001b[39m np\u001b[38;5;241m.\u001b[39marray([\u001b[38;5;241m1\u001b[39m, \u001b[38;5;28;01mNone\u001b[39;00m, \u001b[38;5;241m2\u001b[39m, \u001b[38;5;241m3\u001b[39m])\n\u001b[1;32m----> 2\u001b[0m \u001b[38;5;28mprint\u001b[39m(\u001b[43mval1\u001b[49m\u001b[38;5;241;43m.\u001b[39;49m\u001b[43msum\u001b[49m\u001b[43m(\u001b[49m\u001b[43m)\u001b[49m)\n",
      "File \u001b[1;32m~\\AppData\\Local\\Packages\\PythonSoftwareFoundation.Python.3.13_qbz5n2kfra8p0\\LocalCache\\local-packages\\Python313\\site-packages\\numpy\\_core\\_methods.py:53\u001b[0m, in \u001b[0;36m_sum\u001b[1;34m(a, axis, dtype, out, keepdims, initial, where)\u001b[0m\n\u001b[0;32m     51\u001b[0m \u001b[38;5;28;01mdef\u001b[39;00m \u001b[38;5;21m_sum\u001b[39m(a, axis\u001b[38;5;241m=\u001b[39m\u001b[38;5;28;01mNone\u001b[39;00m, dtype\u001b[38;5;241m=\u001b[39m\u001b[38;5;28;01mNone\u001b[39;00m, out\u001b[38;5;241m=\u001b[39m\u001b[38;5;28;01mNone\u001b[39;00m, keepdims\u001b[38;5;241m=\u001b[39m\u001b[38;5;28;01mFalse\u001b[39;00m,\n\u001b[0;32m     52\u001b[0m          initial\u001b[38;5;241m=\u001b[39m_NoValue, where\u001b[38;5;241m=\u001b[39m\u001b[38;5;28;01mTrue\u001b[39;00m):\n\u001b[1;32m---> 53\u001b[0m     \u001b[38;5;28;01mreturn\u001b[39;00m \u001b[43mumr_sum\u001b[49m\u001b[43m(\u001b[49m\u001b[43ma\u001b[49m\u001b[43m,\u001b[49m\u001b[43m \u001b[49m\u001b[43maxis\u001b[49m\u001b[43m,\u001b[49m\u001b[43m \u001b[49m\u001b[43mdtype\u001b[49m\u001b[43m,\u001b[49m\u001b[43m \u001b[49m\u001b[43mout\u001b[49m\u001b[43m,\u001b[49m\u001b[43m \u001b[49m\u001b[43mkeepdims\u001b[49m\u001b[43m,\u001b[49m\u001b[43m \u001b[49m\u001b[43minitial\u001b[49m\u001b[43m,\u001b[49m\u001b[43m \u001b[49m\u001b[43mwhere\u001b[49m\u001b[43m)\u001b[49m\n",
      "\u001b[1;31mTypeError\u001b[0m: unsupported operand type(s) for +: 'int' and 'NoneType'"
     ]
    }
   ],
   "source": [
    "val1 = np.array([1, None, 2, 3])\n",
    "print(val1.sum())"
   ]
  },
  {
   "cell_type": "code",
   "execution_count": 121,
   "metadata": {},
   "outputs": [
    {
     "name": "stdout",
     "output_type": "stream",
     "text": [
      "[ 1. nan  2.  3.]\n",
      "nan\n",
      "nan\n",
      "6.0\n"
     ]
    }
   ],
   "source": [
    "val1 = np.array([1, np.nan, 2, 3])\n",
    "print(val1)\n",
    "print(val1.sum())\n",
    "print(np.sum(val1))\n",
    "print(np.nansum(val1))"
   ]
  },
  {
   "cell_type": "code",
   "execution_count": 124,
   "metadata": {},
   "outputs": [
    {
     "name": "stdout",
     "output_type": "stream",
     "text": [
      "0    NaN\n",
      "1    NaN\n",
      "2    2.0\n",
      "3    3.0\n",
      "4    4.0\n",
      "5    5.0\n",
      "6    6.0\n",
      "7    7.0\n",
      "8    8.0\n",
      "9    9.0\n",
      "dtype: float64\n"
     ]
    }
   ],
   "source": [
    "x = pd.Series(range(10), dtype=int)\n",
    "x[0] = None\n",
    "x[1] = np.nan\n",
    "print(x)"
   ]
  },
  {
   "cell_type": "code",
   "execution_count": 134,
   "metadata": {},
   "outputs": [
    {
     "name": "stdout",
     "output_type": "stream",
     "text": [
      "0    a\n",
      "1    b\n",
      "2    c\n",
      "dtype: object\n",
      "0    None\n",
      "1     NaN\n",
      "2       c\n",
      "dtype: object\n"
     ]
    }
   ],
   "source": [
    "x1 = pd.Series([\"a\", \"b\", \"c\"])\n",
    "print(x1)\n",
    "x1[0] = None\n",
    "x1[1] = np.nan\n",
    "print(x1)"
   ]
  },
  {
   "cell_type": "code",
   "execution_count": 135,
   "metadata": {},
   "outputs": [
    {
     "name": "stdout",
     "output_type": "stream",
     "text": [
      "0       1\n",
      "1       2\n",
      "2       3\n",
      "3     NaN\n",
      "4    None\n",
      "5    <NA>\n",
      "dtype: object\n"
     ]
    }
   ],
   "source": [
    "x2 = pd.Series([1, 2, 3, np.nan, None, pd.NA])\n",
    "print(x2)"
   ]
  },
  {
   "cell_type": "code",
   "execution_count": 139,
   "metadata": {},
   "outputs": [
    {
     "name": "stdout",
     "output_type": "stream",
     "text": [
      "0       1\n",
      "1       2\n",
      "2       3\n",
      "3    <NA>\n",
      "4    <NA>\n",
      "5    <NA>\n",
      "dtype: Int32\n"
     ]
    }
   ],
   "source": [
    "x3 = pd.Series([1, 2, 3, np.nan, None, pd.NA], dtype=\"Int32\")\n",
    "print(x3)"
   ]
  },
  {
   "cell_type": "code",
   "execution_count": 143,
   "metadata": {},
   "outputs": [
    {
     "name": "stdout",
     "output_type": "stream",
     "text": [
      "0    False\n",
      "1    False\n",
      "2    False\n",
      "3     True\n",
      "4     True\n",
      "5     True\n",
      "dtype: bool\n",
      "3    <NA>\n",
      "4    <NA>\n",
      "5    <NA>\n",
      "dtype: Int32\n",
      "0    1\n",
      "1    2\n",
      "2    3\n",
      "dtype: Int32\n"
     ]
    }
   ],
   "source": [
    "print(x3.isnull())\n",
    "print(x3[x3.isnull()])\n",
    "print(x3[x3.notnull()])"
   ]
  },
  {
   "cell_type": "code",
   "execution_count": 144,
   "metadata": {},
   "outputs": [
    {
     "name": "stdout",
     "output_type": "stream",
     "text": [
      "0    1\n",
      "1    2\n",
      "2    3\n",
      "dtype: Int32\n"
     ]
    }
   ],
   "source": [
    "print(x3.dropna())"
   ]
  },
  {
   "cell_type": "code",
   "execution_count": 148,
   "metadata": {},
   "outputs": [
    {
     "name": "stdout",
     "output_type": "stream",
     "text": [
      "   0    1  2    3    4     5\n",
      "0  1  2.0  3  NaN  NaN  <NA>\n",
      "1  1  2.0  3  4.0  5.0     6\n",
      "2  1  NaN  3  4.0  NaN     6\n",
      "   0    1  2    3    4  5\n",
      "1  1  2.0  3  4.0  5.0  6\n",
      "\n",
      "   0    1  2    3    4  5\n",
      "1  1  2.0  3  4.0  5.0  6\n",
      "   0  2\n",
      "0  1  3\n",
      "1  1  3\n",
      "2  1  3\n"
     ]
    }
   ],
   "source": [
    "df = pd.DataFrame(\n",
    "    [[1, 2, 3, np.nan, None, pd.NA], \n",
    "     [1, 2, 3, 4, 5, 6], \n",
    "     [1,np.nan,3,4, np.nan, 6]]\n",
    ")\n",
    "print(df)\n",
    "print(df.dropna())\n",
    "print()\n",
    "print(df.dropna(axis=0))\n",
    "print(df.dropna(axis=1))"
   ]
  },
  {
   "cell_type": "markdown",
   "metadata": {},
   "source": [
    "how\n",
    "\n",
    "- all - значения NA\n",
    "\n",
    "- any - хотя бы одно значение \n",
    "\n",
    "- thresh - x, остается, если присутствует МИНИМУМ х непустых значений"
   ]
  },
  {
   "cell_type": "code",
   "execution_count": 149,
   "metadata": {},
   "outputs": [
    {
     "name": "stdout",
     "output_type": "stream",
     "text": [
      "   0    1  2    3    4     5\n",
      "0  1  2.0  3  NaN  NaN  <NA>\n",
      "1  1  2.0  3  4.0  5.0     6\n",
      "2  1  NaN  3  4.0  NaN     6\n"
     ]
    }
   ],
   "source": [
    "print(df.dropna(axis=1,how='all'))"
   ]
  },
  {
   "cell_type": "code",
   "execution_count": 150,
   "metadata": {},
   "outputs": [
    {
     "name": "stdout",
     "output_type": "stream",
     "text": [
      "   0  2\n",
      "0  1  3\n",
      "1  1  3\n",
      "2  1  3\n"
     ]
    }
   ],
   "source": [
    "print(df.dropna(axis=1, how=\"any\"))"
   ]
  },
  {
   "cell_type": "code",
   "execution_count": 151,
   "metadata": {},
   "outputs": [
    {
     "name": "stdout",
     "output_type": "stream",
     "text": [
      "   0    1  2    3     5\n",
      "0  1  2.0  3  NaN  <NA>\n",
      "1  1  2.0  3  4.0     6\n",
      "2  1  NaN  3  4.0     6\n"
     ]
    }
   ],
   "source": [
    "print(df.dropna(axis=1, thresh=2))"
   ]
  },
  {
   "cell_type": "markdown",
   "metadata": {},
   "source": [
    "## 5. На примере объектов Series и DataFrame продемонстрируйте использование методов ffill() и bfill()"
   ]
  },
  {
   "cell_type": "code",
   "execution_count": 44,
   "metadata": {},
   "outputs": [
    {
     "name": "stdout",
     "output_type": "stream",
     "text": [
      "Исходный DataFrame:\n",
      "     A    B     C\n",
      "0  1.0  NaN  10.0\n",
      "1  NaN  7.0  20.0\n",
      "2  3.0  NaN   NaN\n",
      "3  NaN  9.0   NaN\n",
      "4  5.0  NaN  50.0\n",
      "После ffill():\n",
      "     A    B     C\n",
      "0  1.0  NaN  10.0\n",
      "1  1.0  7.0  20.0\n",
      "2  3.0  7.0  20.0\n",
      "3  3.0  9.0  20.0\n",
      "4  5.0  9.0  50.0\n",
      "После bfill():\n",
      "     A    B     C\n",
      "0  1.0  7.0  10.0\n",
      "1  3.0  7.0  20.0\n",
      "2  3.0  9.0  50.0\n",
      "3  5.0  9.0  50.0\n",
      "4  5.0  NaN  50.0\n"
     ]
    }
   ],
   "source": [
    "data = {\n",
    "    \"A\": [1, np.nan, 3, np.nan, 5],\n",
    "    \"B\": [np.nan, 7, np.nan, 9, np.nan],\n",
    "    \"C\": [10, 20, np.nan, np.nan, 50],\n",
    "}\n",
    "\n",
    "df = pd.DataFrame(data)\n",
    "print(\"Исходный DataFrame:\")\n",
    "print(df)\n",
    "\n",
    "# ffill() заполняет пропуски ПОСЛЕДНИМ известным значением сверху вниз:\n",
    "df1 = df.ffill()\n",
    "print(\"После ffill():\")\n",
    "print(df1)\n",
    "\n",
    "# bfill() заполняет пропуски СЛЕДУЮЩИМ известным значением снизу вверх:\n",
    "df2 = df.bfill()\n",
    "print(\"После bfill():\")\n",
    "print(df2)"
   ]
  }
 ],
 "metadata": {
  "kernelspec": {
   "display_name": "Python 3",
   "language": "python",
   "name": "python3"
  },
  "language_info": {
   "codemirror_mode": {
    "name": "ipython",
    "version": 3
   },
   "file_extension": ".py",
   "mimetype": "text/x-python",
   "name": "python",
   "nbconvert_exporter": "python",
   "pygments_lexer": "ipython3",
   "version": "3.13.1"
  }
 },
 "nbformat": 4,
 "nbformat_minor": 2
}
